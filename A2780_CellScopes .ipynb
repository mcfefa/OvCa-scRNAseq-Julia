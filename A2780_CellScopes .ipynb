{
 "cells": [
  {
   "cell_type": "code",
   "execution_count": 1,
   "id": "ceefacf9",
   "metadata": {
    "scrolled": true
   },
   "outputs": [
    {
     "name": "stderr",
     "output_type": "stream",
     "text": [
      "\u001b[32m\u001b[1m  Activating\u001b[22m\u001b[39m project at `~/Julia`\n"
     ]
    }
   ],
   "source": [
    "]activate ."
   ]
  },
  {
   "cell_type": "code",
   "execution_count": 2,
   "id": "deeeb2c2",
   "metadata": {},
   "outputs": [
    {
     "data": {
      "application/vnd.webio.node+json": {
       "children": [],
       "instanceArgs": {
        "namespace": "html",
        "tag": "div"
       },
       "nodeType": "DOM",
       "props": {},
       "type": "node"
      },
      "text/html": [
       "<div style=\"padding: 1em; background-color: #f8d6da; border: 1px solid #f5c6cb; font-weight: bold;\">\n",
       "<p>The WebIO Jupyter extension was not detected. See the\n",
       "<a href=\"https://juliagizmos.github.io/WebIO.jl/latest/providers/ijulia/\" target=\"_blank\">\n",
       "    WebIO Jupyter integration documentation\n",
       "</a>\n",
       "for more information.\n",
       "</div>\n"
      ],
      "text/plain": [
       "WebIO._IJuliaInit()"
      ]
     },
     "metadata": {
      "application/vnd.webio.node+json": {
       "kernelId": "665bddf3-0b70-4187-8d59-14cc79fd25f8"
      }
     },
     "output_type": "display_data"
    },
    {
     "name": "stdout",
     "output_type": "stream",
     "text": [
      "Welcome to use CellScopes.jl!\n"
     ]
    }
   ],
   "source": [
    "using CellScopes\n",
    "using DataFrames\n",
    "using CSV\n",
    "using Plots\n",
    "using GLM\n",
    "using StatsPlots\n",
    "using UMAP\n",
    "using Statistics\n",
    "using LinearAlgebra\n",
    "using SparseArrays"
   ]
  },
  {
   "cell_type": "code",
   "execution_count": 3,
   "id": "580bf4e2",
   "metadata": {},
   "outputs": [],
   "source": [
    "import CellScopes as cs"
   ]
  },
  {
   "cell_type": "code",
   "execution_count": 4,
   "id": "6cdd181e",
   "metadata": {},
   "outputs": [
    {
     "data": {
      "text/plain": [
       "CellScopes.RawCountObject\n"
      ]
     },
     "execution_count": 4,
     "metadata": {},
     "output_type": "execute_result"
    },
    {
     "name": "stdout",
     "output_type": "stream",
     "text": [
      "Genes x Cells = 33538 x 3870\n",
      "All fields:\n",
      "- count_mtx\n",
      "- cell_name\n",
      "- gene_name\n"
     ]
    }
   ],
   "source": [
    "counts_h5 = cs.read_10x_h5(\"/Users/jingyi/Julia/h5/A2780.h5\")"
   ]
  },
  {
   "cell_type": "code",
   "execution_count": 5,
   "id": "690407a8",
   "metadata": {},
   "outputs": [
    {
     "data": {
      "text/plain": [
       "CellScopes.RawCountObject\n"
      ]
     },
     "execution_count": 5,
     "metadata": {},
     "output_type": "execute_result"
    },
    {
     "name": "stdout",
     "output_type": "stream",
     "text": [
      "Genes x Cells = 17832 x 3449\n",
      "All fields:\n",
      "- count_mtx\n",
      "- cell_name\n",
      "- gene_name\n"
     ]
    }
   ],
   "source": [
    "counts_qc = cs.read_10x(\"A2780_QC\")"
   ]
  },
  {
   "cell_type": "markdown",
   "id": "004cb7d4",
   "metadata": {},
   "source": [
    "## Calcaulate fraction of MT- genes"
   ]
  },
  {
   "cell_type": "code",
   "execution_count": 6,
   "id": "a620b80f",
   "metadata": {},
   "outputs": [
    {
     "data": {
      "text/plain": [
       "13-element Vector{Int64}:\n",
       " 17810\n",
       " 17811\n",
       " 17812\n",
       " 17813\n",
       " 17814\n",
       " 17815\n",
       " 17816\n",
       " 17817\n",
       " 17818\n",
       " 17819\n",
       " 17820\n",
       " 17821\n",
       " 17822"
      ]
     },
     "execution_count": 6,
     "metadata": {},
     "output_type": "execute_result"
    }
   ],
   "source": [
    "mt_gene_indices = findall(gname -> startswith(gname, \"MT-\"), counts_qc.gene_name)"
   ]
  },
  {
   "cell_type": "code",
   "execution_count": 7,
   "id": "0ed61627",
   "metadata": {},
   "outputs": [
    {
     "data": {
      "text/plain": [
       "1×3449 Matrix{Float64}:\n",
       " 0.0511259  0.0312758  0.0182593  …  0.0800816  0.0964081  0.035503"
      ]
     },
     "execution_count": 7,
     "metadata": {},
     "output_type": "execute_result"
    }
   ],
   "source": [
    "mt_counts = sum(counts_qc.count_mtx[mt_gene_indices, :], dims=1);\n",
    "total_counts = sum(counts_qc.count_mtx, dims=1);\n",
    "fraction_mt = mt_counts ./ total_counts"
   ]
  },
  {
   "cell_type": "markdown",
   "id": "c475640a",
   "metadata": {},
   "source": [
    "## Construct the scRNAobj"
   ]
  },
  {
   "cell_type": "code",
   "execution_count": 8,
   "id": "a08f1dad",
   "metadata": {},
   "outputs": [
    {
     "data": {
      "text/plain": [
       "scRNAObject in CellScopes.jl\n"
      ]
     },
     "execution_count": 8,
     "metadata": {},
     "output_type": "execute_result"
    },
    {
     "name": "stdout",
     "output_type": "stream",
     "text": [
      "Genes x Cells = 17832 x 3449\n",
      "Available data:\n",
      "- Raw count\n",
      "- Metadata\n",
      "All fields:\n",
      "- rawCount\n",
      "- normCount\n",
      "- scaleCount\n",
      "- metaData\n",
      "- varGene\n",
      "- dimReduction\n",
      "- clustData\n",
      "- undefinedData\n"
     ]
    }
   ],
   "source": [
    "A2780 = cs.scRNAObject(counts_qc)"
   ]
  },
  {
   "cell_type": "code",
   "execution_count": null,
   "id": "ba7406fc",
   "metadata": {},
   "outputs": [],
   "source": []
  },
  {
   "cell_type": "code",
   "execution_count": 9,
   "id": "0764a6ae",
   "metadata": {
    "scrolled": true
   },
   "outputs": [
    {
     "data": {
      "text/html": [
       "<div><div style = \"float: left;\"><span>3449×4 DataFrame</span></div><div style = \"float: right;\"><span style = \"font-style: italic;\">3424 rows omitted</span></div><div style = \"clear: both;\"></div></div><div class = \"data-frame\" style = \"overflow-x: scroll;\"><table class = \"data-frame\" style = \"margin-bottom: 6px;\"><thead><tr class = \"header\"><th class = \"rowNumber\" style = \"font-weight: bold; text-align: right;\">Row</th><th style = \"text-align: left;\">Cell_id</th><th style = \"text-align: left;\">nFeatures</th><th style = \"text-align: left;\">nGenes</th><th style = \"text-align: left;\">percent_mito</th></tr><tr class = \"subheader headerLastRow\"><th class = \"rowNumber\" style = \"font-weight: bold; text-align: right;\"></th><th title = \"String\" style = \"text-align: left;\">String</th><th title = \"Int64\" style = \"text-align: left;\">Int64</th><th title = \"Int64\" style = \"text-align: left;\">Int64</th><th title = \"Float64\" style = \"text-align: left;\">Float64</th></tr></thead><tbody><tr><td class = \"rowNumber\" style = \"font-weight: bold; text-align: right;\">1</td><td style = \"text-align: left;\">A2780S_CT_S_AAACCTGCAGGGTATG</td><td style = \"text-align: right;\">19540</td><td style = \"text-align: right;\">3903</td><td style = \"text-align: right;\">0.0511259</td></tr><tr><td class = \"rowNumber\" style = \"font-weight: bold; text-align: right;\">2</td><td style = \"text-align: left;\">A2780S_CT_S_AAACCTGGTAGCGTCC</td><td style = \"text-align: right;\">19408</td><td style = \"text-align: right;\">3499</td><td style = \"text-align: right;\">0.0312758</td></tr><tr><td class = \"rowNumber\" style = \"font-weight: bold; text-align: right;\">3</td><td style = \"text-align: left;\">A2780S_CT_S_AAACCTGGTATAGGGC</td><td style = \"text-align: right;\">1643</td><td style = \"text-align: right;\">859</td><td style = \"text-align: right;\">0.0182593</td></tr><tr><td class = \"rowNumber\" style = \"font-weight: bold; text-align: right;\">4</td><td style = \"text-align: left;\">A2780S_CT_S_AAACCTGGTGAAGGCT</td><td style = \"text-align: right;\">970</td><td style = \"text-align: right;\">661</td><td style = \"text-align: right;\">0.0515464</td></tr><tr><td class = \"rowNumber\" style = \"font-weight: bold; text-align: right;\">5</td><td style = \"text-align: left;\">A2780S_CT_S_AAACCTGGTGCCTTGG</td><td style = \"text-align: right;\">580</td><td style = \"text-align: right;\">404</td><td style = \"text-align: right;\">0.0396552</td></tr><tr><td class = \"rowNumber\" style = \"font-weight: bold; text-align: right;\">6</td><td style = \"text-align: left;\">A2780S_CT_S_AAACCTGTCAGTTTGG</td><td style = \"text-align: right;\">1162</td><td style = \"text-align: right;\">680</td><td style = \"text-align: right;\">0.0301205</td></tr><tr><td class = \"rowNumber\" style = \"font-weight: bold; text-align: right;\">7</td><td style = \"text-align: left;\">A2780S_CT_S_AAACCTGTCATGCAAC</td><td style = \"text-align: right;\">1408</td><td style = \"text-align: right;\">810</td><td style = \"text-align: right;\">0.024858</td></tr><tr><td class = \"rowNumber\" style = \"font-weight: bold; text-align: right;\">8</td><td style = \"text-align: left;\">A2780S_CT_S_AAACGGGCAAGGTGTG</td><td style = \"text-align: right;\">14693</td><td style = \"text-align: right;\">3462</td><td style = \"text-align: right;\">0.0811271</td></tr><tr><td class = \"rowNumber\" style = \"font-weight: bold; text-align: right;\">9</td><td style = \"text-align: left;\">A2780S_CT_S_AAACGGGCACATCTTT</td><td style = \"text-align: right;\">6551</td><td style = \"text-align: right;\">2232</td><td style = \"text-align: right;\">0.0619753</td></tr><tr><td class = \"rowNumber\" style = \"font-weight: bold; text-align: right;\">10</td><td style = \"text-align: left;\">A2780S_CT_S_AAACGGGCAGGCGATA</td><td style = \"text-align: right;\">2156</td><td style = \"text-align: right;\">864</td><td style = \"text-align: right;\">0.405844</td></tr><tr><td class = \"rowNumber\" style = \"font-weight: bold; text-align: right;\">11</td><td style = \"text-align: left;\">A2780S_CT_S_AAACGGGTCCGAAGAG</td><td style = \"text-align: right;\">638</td><td style = \"text-align: right;\">415</td><td style = \"text-align: right;\">0.109718</td></tr><tr><td class = \"rowNumber\" style = \"font-weight: bold; text-align: right;\">12</td><td style = \"text-align: left;\">A2780S_CT_S_AAACGGGTCCTTTCGG</td><td style = \"text-align: right;\">4667</td><td style = \"text-align: right;\">1749</td><td style = \"text-align: right;\">0.0694236</td></tr><tr><td class = \"rowNumber\" style = \"font-weight: bold; text-align: right;\">13</td><td style = \"text-align: left;\">A2780S_CT_S_AAACGGGTCTTCAACT</td><td style = \"text-align: right;\">14647</td><td style = \"text-align: right;\">3743</td><td style = \"text-align: right;\">0.0660886</td></tr><tr><td style = \"text-align: right;\">&vellip;</td><td style = \"text-align: right;\">&vellip;</td><td style = \"text-align: right;\">&vellip;</td><td style = \"text-align: right;\">&vellip;</td><td style = \"text-align: right;\">&vellip;</td></tr><tr><td class = \"rowNumber\" style = \"font-weight: bold; text-align: right;\">3438</td><td style = \"text-align: left;\">A2780S_CT_R_TTTACTGTCCCAAGTA</td><td style = \"text-align: right;\">593</td><td style = \"text-align: right;\">438</td><td style = \"text-align: right;\">0.0252951</td></tr><tr><td class = \"rowNumber\" style = \"font-weight: bold; text-align: right;\">3439</td><td style = \"text-align: left;\">A2780S_CT_R_TTTACTGTCGGTCCGA</td><td style = \"text-align: right;\">16456</td><td style = \"text-align: right;\">3668</td><td style = \"text-align: right;\">0.089876</td></tr><tr><td class = \"rowNumber\" style = \"font-weight: bold; text-align: right;\">3440</td><td style = \"text-align: left;\">A2780S_CT_R_TTTATGCTCGTTTATC</td><td style = \"text-align: right;\">12482</td><td style = \"text-align: right;\">3103</td><td style = \"text-align: right;\">0.0837206</td></tr><tr><td class = \"rowNumber\" style = \"font-weight: bold; text-align: right;\">3441</td><td style = \"text-align: left;\">A2780S_CT_R_TTTCCTCAGAGTAATC</td><td style = \"text-align: right;\">20428</td><td style = \"text-align: right;\">4161</td><td style = \"text-align: right;\">0.0847366</td></tr><tr><td class = \"rowNumber\" style = \"font-weight: bold; text-align: right;\">3442</td><td style = \"text-align: left;\">A2780S_CT_R_TTTCCTCGTCTCGTTC</td><td style = \"text-align: right;\">582</td><td style = \"text-align: right;\">427</td><td style = \"text-align: right;\">0.00859107</td></tr><tr><td class = \"rowNumber\" style = \"font-weight: bold; text-align: right;\">3443</td><td style = \"text-align: left;\">A2780S_CT_R_TTTCCTCGTGCACCAC</td><td style = \"text-align: right;\">30806</td><td style = \"text-align: right;\">4463</td><td style = \"text-align: right;\">0.0986172</td></tr><tr><td class = \"rowNumber\" style = \"font-weight: bold; text-align: right;\">3444</td><td style = \"text-align: left;\">A2780S_CT_R_TTTCCTCTCGCGGATC</td><td style = \"text-align: right;\">4084</td><td style = \"text-align: right;\">1926</td><td style = \"text-align: right;\">0.0178746</td></tr><tr><td class = \"rowNumber\" style = \"font-weight: bold; text-align: right;\">3445</td><td style = \"text-align: left;\">A2780S_CT_R_TTTGCGCAGTAGGTGC</td><td style = \"text-align: right;\">18452</td><td style = \"text-align: right;\">3845</td><td style = \"text-align: right;\">0.0730002</td></tr><tr><td class = \"rowNumber\" style = \"font-weight: bold; text-align: right;\">3446</td><td style = \"text-align: left;\">A2780S_CT_R_TTTGGTTGTTACGTCA</td><td style = \"text-align: right;\">541</td><td style = \"text-align: right;\">386</td><td style = \"text-align: right;\">0.0332717</td></tr><tr><td class = \"rowNumber\" style = \"font-weight: bold; text-align: right;\">3447</td><td style = \"text-align: left;\">A2780S_CT_R_TTTGTCACAACAACCT</td><td style = \"text-align: right;\">19118</td><td style = \"text-align: right;\">3891</td><td style = \"text-align: right;\">0.0800816</td></tr><tr><td class = \"rowNumber\" style = \"font-weight: bold; text-align: right;\">3448</td><td style = \"text-align: left;\">A2780S_CT_R_TTTGTCAGTCTGGTCG</td><td style = \"text-align: right;\">18152</td><td style = \"text-align: right;\">3899</td><td style = \"text-align: right;\">0.0964081</td></tr><tr><td class = \"rowNumber\" style = \"font-weight: bold; text-align: right;\">3449</td><td style = \"text-align: left;\">A2780S_CT_R_TTTGTCATCTGAAAGA</td><td style = \"text-align: right;\">1014</td><td style = \"text-align: right;\">683</td><td style = \"text-align: right;\">0.035503</td></tr></tbody></table></div>"
      ],
      "text/latex": [
       "\\begin{tabular}{r|cccc}\n",
       "\t& Cell\\_id & nFeatures & nGenes & percent\\_mito\\\\\n",
       "\t\\hline\n",
       "\t& String & Int64 & Int64 & Float64\\\\\n",
       "\t\\hline\n",
       "\t1 & A2780S\\_CT\\_S\\_AAACCTGCAGGGTATG & 19540 & 3903 & 0.0511259 \\\\\n",
       "\t2 & A2780S\\_CT\\_S\\_AAACCTGGTAGCGTCC & 19408 & 3499 & 0.0312758 \\\\\n",
       "\t3 & A2780S\\_CT\\_S\\_AAACCTGGTATAGGGC & 1643 & 859 & 0.0182593 \\\\\n",
       "\t4 & A2780S\\_CT\\_S\\_AAACCTGGTGAAGGCT & 970 & 661 & 0.0515464 \\\\\n",
       "\t5 & A2780S\\_CT\\_S\\_AAACCTGGTGCCTTGG & 580 & 404 & 0.0396552 \\\\\n",
       "\t6 & A2780S\\_CT\\_S\\_AAACCTGTCAGTTTGG & 1162 & 680 & 0.0301205 \\\\\n",
       "\t7 & A2780S\\_CT\\_S\\_AAACCTGTCATGCAAC & 1408 & 810 & 0.024858 \\\\\n",
       "\t8 & A2780S\\_CT\\_S\\_AAACGGGCAAGGTGTG & 14693 & 3462 & 0.0811271 \\\\\n",
       "\t9 & A2780S\\_CT\\_S\\_AAACGGGCACATCTTT & 6551 & 2232 & 0.0619753 \\\\\n",
       "\t10 & A2780S\\_CT\\_S\\_AAACGGGCAGGCGATA & 2156 & 864 & 0.405844 \\\\\n",
       "\t11 & A2780S\\_CT\\_S\\_AAACGGGTCCGAAGAG & 638 & 415 & 0.109718 \\\\\n",
       "\t12 & A2780S\\_CT\\_S\\_AAACGGGTCCTTTCGG & 4667 & 1749 & 0.0694236 \\\\\n",
       "\t13 & A2780S\\_CT\\_S\\_AAACGGGTCTTCAACT & 14647 & 3743 & 0.0660886 \\\\\n",
       "\t14 & A2780S\\_CT\\_S\\_AAAGATGAGGCCCTTG & 2358 & 1097 & 0.0831213 \\\\\n",
       "\t15 & A2780S\\_CT\\_S\\_AAAGATGTCCGCTGTT & 1128 & 656 & 0.0531915 \\\\\n",
       "\t16 & A2780S\\_CT\\_S\\_AAAGATGTCGATCCCT & 1246 & 627 & 0.132424 \\\\\n",
       "\t17 & A2780S\\_CT\\_S\\_AAAGCAACACGGTGTC & 16416 & 3604 & 0.0677997 \\\\\n",
       "\t18 & A2780S\\_CT\\_S\\_AAAGCAACACTTCTGC & 12951 & 3454 & 0.0938924 \\\\\n",
       "\t19 & A2780S\\_CT\\_S\\_AAAGCAAGTCACTTCC & 650 & 434 & 0.0323077 \\\\\n",
       "\t20 & A2780S\\_CT\\_S\\_AAAGCAAGTGCGATAG & 21276 & 4060 & 0.0903835 \\\\\n",
       "\t21 & A2780S\\_CT\\_S\\_AAAGCAATCCAGAAGG & 900 & 551 & 0.0666667 \\\\\n",
       "\t22 & A2780S\\_CT\\_S\\_AAAGTAGCACATCCAA & 7867 & 2527 & 0.0911402 \\\\\n",
       "\t23 & A2780S\\_CT\\_S\\_AAAGTAGCATCTACGA & 3691 & 1519 & 0.0571661 \\\\\n",
       "\t24 & A2780S\\_CT\\_S\\_AAAGTAGTCACGCGGT & 14666 & 3569 & 0.100095 \\\\\n",
       "\t25 & A2780S\\_CT\\_S\\_AAATGCCAGTACGACG & 1473 & 977 & 0.0346232 \\\\\n",
       "\t26 & A2780S\\_CT\\_S\\_AAATGCCGTTAAAGTG & 2979 & 1219 & 0.328634 \\\\\n",
       "\t27 & A2780S\\_CT\\_S\\_AACACGTAGAGAACAG & 17375 & 3480 & 0.0828201 \\\\\n",
       "\t28 & A2780S\\_CT\\_S\\_AACACGTCAGGGTTAG & 1368 & 725 & 0.0899123 \\\\\n",
       "\t29 & A2780S\\_CT\\_S\\_AACACGTCATCCTAGA & 704 & 457 & 0.015625 \\\\\n",
       "\t30 & A2780S\\_CT\\_S\\_AACACGTTCCACTGGG & 19627 & 4173 & 0.0878891 \\\\\n",
       "\t$\\dots$ & $\\dots$ & $\\dots$ & $\\dots$ & $\\dots$ \\\\\n",
       "\\end{tabular}\n"
      ],
      "text/plain": [
       "\u001b[1m3449×4 DataFrame\u001b[0m\n",
       "\u001b[1m  Row \u001b[0m│\u001b[1m Cell_id                      \u001b[0m\u001b[1m nFeatures \u001b[0m\u001b[1m nGenes \u001b[0m\u001b[1m percent_mito \u001b[0m\n",
       "      │\u001b[90m String                       \u001b[0m\u001b[90m Int64     \u001b[0m\u001b[90m Int64  \u001b[0m\u001b[90m Float64      \u001b[0m\n",
       "──────┼───────────────────────────────────────────────────────────────\n",
       "    1 │ A2780S_CT_S_AAACCTGCAGGGTATG      19540    3903    0.0511259\n",
       "    2 │ A2780S_CT_S_AAACCTGGTAGCGTCC      19408    3499    0.0312758\n",
       "    3 │ A2780S_CT_S_AAACCTGGTATAGGGC       1643     859    0.0182593\n",
       "    4 │ A2780S_CT_S_AAACCTGGTGAAGGCT        970     661    0.0515464\n",
       "    5 │ A2780S_CT_S_AAACCTGGTGCCTTGG        580     404    0.0396552\n",
       "    6 │ A2780S_CT_S_AAACCTGTCAGTTTGG       1162     680    0.0301205\n",
       "    7 │ A2780S_CT_S_AAACCTGTCATGCAAC       1408     810    0.024858\n",
       "    8 │ A2780S_CT_S_AAACGGGCAAGGTGTG      14693    3462    0.0811271\n",
       "    9 │ A2780S_CT_S_AAACGGGCACATCTTT       6551    2232    0.0619753\n",
       "   10 │ A2780S_CT_S_AAACGGGCAGGCGATA       2156     864    0.405844\n",
       "   11 │ A2780S_CT_S_AAACGGGTCCGAAGAG        638     415    0.109718\n",
       "  ⋮   │              ⋮                    ⋮        ⋮          ⋮\n",
       " 3440 │ A2780S_CT_R_TTTATGCTCGTTTATC      12482    3103    0.0837206\n",
       " 3441 │ A2780S_CT_R_TTTCCTCAGAGTAATC      20428    4161    0.0847366\n",
       " 3442 │ A2780S_CT_R_TTTCCTCGTCTCGTTC        582     427    0.00859107\n",
       " 3443 │ A2780S_CT_R_TTTCCTCGTGCACCAC      30806    4463    0.0986172\n",
       " 3444 │ A2780S_CT_R_TTTCCTCTCGCGGATC       4084    1926    0.0178746\n",
       " 3445 │ A2780S_CT_R_TTTGCGCAGTAGGTGC      18452    3845    0.0730002\n",
       " 3446 │ A2780S_CT_R_TTTGGTTGTTACGTCA        541     386    0.0332717\n",
       " 3447 │ A2780S_CT_R_TTTGTCACAACAACCT      19118    3891    0.0800816\n",
       " 3448 │ A2780S_CT_R_TTTGTCAGTCTGGTCG      18152    3899    0.0964081\n",
       " 3449 │ A2780S_CT_R_TTTGTCATCTGAAAGA       1014     683    0.035503\n",
       "\u001b[36m                                                     3428 rows omitted\u001b[0m"
      ]
     },
     "execution_count": 9,
     "metadata": {},
     "output_type": "execute_result"
    }
   ],
   "source": [
    "A2780.metaData[!, :percent_mito] = vec(fraction_mt);\n",
    "A2780.metaData"
   ]
  },
  {
   "cell_type": "code",
   "execution_count": 10,
   "id": "7071a38b",
   "metadata": {},
   "outputs": [
    {
     "data": {
      "text/plain": [
       "3449-element Vector{String}:\n",
       " \"A2780S_CT_S\"\n",
       " \"A2780S_CT_S\"\n",
       " \"A2780S_CT_S\"\n",
       " \"A2780S_CT_S\"\n",
       " \"A2780S_CT_S\"\n",
       " \"A2780S_CT_S\"\n",
       " \"A2780S_CT_S\"\n",
       " \"A2780S_CT_S\"\n",
       " \"A2780S_CT_S\"\n",
       " \"A2780S_CT_S\"\n",
       " \"A2780S_CT_S\"\n",
       " \"A2780S_CT_S\"\n",
       " \"A2780S_CT_S\"\n",
       " ⋮\n",
       " \"A2780S_CT_R\"\n",
       " \"A2780S_CT_R\"\n",
       " \"A2780S_CT_R\"\n",
       " \"A2780S_CT_R\"\n",
       " \"A2780S_CT_R\"\n",
       " \"A2780S_CT_R\"\n",
       " \"A2780S_CT_R\"\n",
       " \"A2780S_CT_R\"\n",
       " \"A2780S_CT_R\"\n",
       " \"A2780S_CT_R\"\n",
       " \"A2780S_CT_R\"\n",
       " \"A2780S_CT_R\""
      ]
     },
     "execution_count": 10,
     "metadata": {},
     "output_type": "execute_result"
    }
   ],
   "source": [
    "A2780.metaData.Identity = ifelse.(startswith.(A2780.metaData.Cell_id, \"A2780S_CT_R\"), \"A2780S_CT_R\", \"A2780S_CT_S\")"
   ]
  },
  {
   "cell_type": "code",
   "execution_count": 11,
   "id": "15d678cb",
   "metadata": {},
   "outputs": [
    {
     "data": {
      "text/html": [
       "<div><div style = \"float: left;\"><span>3449×5 DataFrame</span></div><div style = \"float: right;\"><span style = \"font-style: italic;\">3424 rows omitted</span></div><div style = \"clear: both;\"></div></div><div class = \"data-frame\" style = \"overflow-x: scroll;\"><table class = \"data-frame\" style = \"margin-bottom: 6px;\"><thead><tr class = \"header\"><th class = \"rowNumber\" style = \"font-weight: bold; text-align: right;\">Row</th><th style = \"text-align: left;\">Cell_id</th><th style = \"text-align: left;\">nFeatures</th><th style = \"text-align: left;\">nGenes</th><th style = \"text-align: left;\">percent_mito</th><th style = \"text-align: left;\">Identity</th></tr><tr class = \"subheader headerLastRow\"><th class = \"rowNumber\" style = \"font-weight: bold; text-align: right;\"></th><th title = \"String\" style = \"text-align: left;\">String</th><th title = \"Int64\" style = \"text-align: left;\">Int64</th><th title = \"Int64\" style = \"text-align: left;\">Int64</th><th title = \"Float64\" style = \"text-align: left;\">Float64</th><th title = \"String\" style = \"text-align: left;\">String</th></tr></thead><tbody><tr><td class = \"rowNumber\" style = \"font-weight: bold; text-align: right;\">1</td><td style = \"text-align: left;\">A2780S_CT_S_AAACCTGCAGGGTATG</td><td style = \"text-align: right;\">19540</td><td style = \"text-align: right;\">3903</td><td style = \"text-align: right;\">0.0511259</td><td style = \"text-align: left;\">A2780S_CT_S</td></tr><tr><td class = \"rowNumber\" style = \"font-weight: bold; text-align: right;\">2</td><td style = \"text-align: left;\">A2780S_CT_S_AAACCTGGTAGCGTCC</td><td style = \"text-align: right;\">19408</td><td style = \"text-align: right;\">3499</td><td style = \"text-align: right;\">0.0312758</td><td style = \"text-align: left;\">A2780S_CT_S</td></tr><tr><td class = \"rowNumber\" style = \"font-weight: bold; text-align: right;\">3</td><td style = \"text-align: left;\">A2780S_CT_S_AAACCTGGTATAGGGC</td><td style = \"text-align: right;\">1643</td><td style = \"text-align: right;\">859</td><td style = \"text-align: right;\">0.0182593</td><td style = \"text-align: left;\">A2780S_CT_S</td></tr><tr><td class = \"rowNumber\" style = \"font-weight: bold; text-align: right;\">4</td><td style = \"text-align: left;\">A2780S_CT_S_AAACCTGGTGAAGGCT</td><td style = \"text-align: right;\">970</td><td style = \"text-align: right;\">661</td><td style = \"text-align: right;\">0.0515464</td><td style = \"text-align: left;\">A2780S_CT_S</td></tr><tr><td class = \"rowNumber\" style = \"font-weight: bold; text-align: right;\">5</td><td style = \"text-align: left;\">A2780S_CT_S_AAACCTGGTGCCTTGG</td><td style = \"text-align: right;\">580</td><td style = \"text-align: right;\">404</td><td style = \"text-align: right;\">0.0396552</td><td style = \"text-align: left;\">A2780S_CT_S</td></tr><tr><td class = \"rowNumber\" style = \"font-weight: bold; text-align: right;\">6</td><td style = \"text-align: left;\">A2780S_CT_S_AAACCTGTCAGTTTGG</td><td style = \"text-align: right;\">1162</td><td style = \"text-align: right;\">680</td><td style = \"text-align: right;\">0.0301205</td><td style = \"text-align: left;\">A2780S_CT_S</td></tr><tr><td class = \"rowNumber\" style = \"font-weight: bold; text-align: right;\">7</td><td style = \"text-align: left;\">A2780S_CT_S_AAACCTGTCATGCAAC</td><td style = \"text-align: right;\">1408</td><td style = \"text-align: right;\">810</td><td style = \"text-align: right;\">0.024858</td><td style = \"text-align: left;\">A2780S_CT_S</td></tr><tr><td class = \"rowNumber\" style = \"font-weight: bold; text-align: right;\">8</td><td style = \"text-align: left;\">A2780S_CT_S_AAACGGGCAAGGTGTG</td><td style = \"text-align: right;\">14693</td><td style = \"text-align: right;\">3462</td><td style = \"text-align: right;\">0.0811271</td><td style = \"text-align: left;\">A2780S_CT_S</td></tr><tr><td class = \"rowNumber\" style = \"font-weight: bold; text-align: right;\">9</td><td style = \"text-align: left;\">A2780S_CT_S_AAACGGGCACATCTTT</td><td style = \"text-align: right;\">6551</td><td style = \"text-align: right;\">2232</td><td style = \"text-align: right;\">0.0619753</td><td style = \"text-align: left;\">A2780S_CT_S</td></tr><tr><td class = \"rowNumber\" style = \"font-weight: bold; text-align: right;\">10</td><td style = \"text-align: left;\">A2780S_CT_S_AAACGGGCAGGCGATA</td><td style = \"text-align: right;\">2156</td><td style = \"text-align: right;\">864</td><td style = \"text-align: right;\">0.405844</td><td style = \"text-align: left;\">A2780S_CT_S</td></tr><tr><td class = \"rowNumber\" style = \"font-weight: bold; text-align: right;\">11</td><td style = \"text-align: left;\">A2780S_CT_S_AAACGGGTCCGAAGAG</td><td style = \"text-align: right;\">638</td><td style = \"text-align: right;\">415</td><td style = \"text-align: right;\">0.109718</td><td style = \"text-align: left;\">A2780S_CT_S</td></tr><tr><td class = \"rowNumber\" style = \"font-weight: bold; text-align: right;\">12</td><td style = \"text-align: left;\">A2780S_CT_S_AAACGGGTCCTTTCGG</td><td style = \"text-align: right;\">4667</td><td style = \"text-align: right;\">1749</td><td style = \"text-align: right;\">0.0694236</td><td style = \"text-align: left;\">A2780S_CT_S</td></tr><tr><td class = \"rowNumber\" style = \"font-weight: bold; text-align: right;\">13</td><td style = \"text-align: left;\">A2780S_CT_S_AAACGGGTCTTCAACT</td><td style = \"text-align: right;\">14647</td><td style = \"text-align: right;\">3743</td><td style = \"text-align: right;\">0.0660886</td><td style = \"text-align: left;\">A2780S_CT_S</td></tr><tr><td style = \"text-align: right;\">&vellip;</td><td style = \"text-align: right;\">&vellip;</td><td style = \"text-align: right;\">&vellip;</td><td style = \"text-align: right;\">&vellip;</td><td style = \"text-align: right;\">&vellip;</td><td style = \"text-align: right;\">&vellip;</td></tr><tr><td class = \"rowNumber\" style = \"font-weight: bold; text-align: right;\">3438</td><td style = \"text-align: left;\">A2780S_CT_R_TTTACTGTCCCAAGTA</td><td style = \"text-align: right;\">593</td><td style = \"text-align: right;\">438</td><td style = \"text-align: right;\">0.0252951</td><td style = \"text-align: left;\">A2780S_CT_R</td></tr><tr><td class = \"rowNumber\" style = \"font-weight: bold; text-align: right;\">3439</td><td style = \"text-align: left;\">A2780S_CT_R_TTTACTGTCGGTCCGA</td><td style = \"text-align: right;\">16456</td><td style = \"text-align: right;\">3668</td><td style = \"text-align: right;\">0.089876</td><td style = \"text-align: left;\">A2780S_CT_R</td></tr><tr><td class = \"rowNumber\" style = \"font-weight: bold; text-align: right;\">3440</td><td style = \"text-align: left;\">A2780S_CT_R_TTTATGCTCGTTTATC</td><td style = \"text-align: right;\">12482</td><td style = \"text-align: right;\">3103</td><td style = \"text-align: right;\">0.0837206</td><td style = \"text-align: left;\">A2780S_CT_R</td></tr><tr><td class = \"rowNumber\" style = \"font-weight: bold; text-align: right;\">3441</td><td style = \"text-align: left;\">A2780S_CT_R_TTTCCTCAGAGTAATC</td><td style = \"text-align: right;\">20428</td><td style = \"text-align: right;\">4161</td><td style = \"text-align: right;\">0.0847366</td><td style = \"text-align: left;\">A2780S_CT_R</td></tr><tr><td class = \"rowNumber\" style = \"font-weight: bold; text-align: right;\">3442</td><td style = \"text-align: left;\">A2780S_CT_R_TTTCCTCGTCTCGTTC</td><td style = \"text-align: right;\">582</td><td style = \"text-align: right;\">427</td><td style = \"text-align: right;\">0.00859107</td><td style = \"text-align: left;\">A2780S_CT_R</td></tr><tr><td class = \"rowNumber\" style = \"font-weight: bold; text-align: right;\">3443</td><td style = \"text-align: left;\">A2780S_CT_R_TTTCCTCGTGCACCAC</td><td style = \"text-align: right;\">30806</td><td style = \"text-align: right;\">4463</td><td style = \"text-align: right;\">0.0986172</td><td style = \"text-align: left;\">A2780S_CT_R</td></tr><tr><td class = \"rowNumber\" style = \"font-weight: bold; text-align: right;\">3444</td><td style = \"text-align: left;\">A2780S_CT_R_TTTCCTCTCGCGGATC</td><td style = \"text-align: right;\">4084</td><td style = \"text-align: right;\">1926</td><td style = \"text-align: right;\">0.0178746</td><td style = \"text-align: left;\">A2780S_CT_R</td></tr><tr><td class = \"rowNumber\" style = \"font-weight: bold; text-align: right;\">3445</td><td style = \"text-align: left;\">A2780S_CT_R_TTTGCGCAGTAGGTGC</td><td style = \"text-align: right;\">18452</td><td style = \"text-align: right;\">3845</td><td style = \"text-align: right;\">0.0730002</td><td style = \"text-align: left;\">A2780S_CT_R</td></tr><tr><td class = \"rowNumber\" style = \"font-weight: bold; text-align: right;\">3446</td><td style = \"text-align: left;\">A2780S_CT_R_TTTGGTTGTTACGTCA</td><td style = \"text-align: right;\">541</td><td style = \"text-align: right;\">386</td><td style = \"text-align: right;\">0.0332717</td><td style = \"text-align: left;\">A2780S_CT_R</td></tr><tr><td class = \"rowNumber\" style = \"font-weight: bold; text-align: right;\">3447</td><td style = \"text-align: left;\">A2780S_CT_R_TTTGTCACAACAACCT</td><td style = \"text-align: right;\">19118</td><td style = \"text-align: right;\">3891</td><td style = \"text-align: right;\">0.0800816</td><td style = \"text-align: left;\">A2780S_CT_R</td></tr><tr><td class = \"rowNumber\" style = \"font-weight: bold; text-align: right;\">3448</td><td style = \"text-align: left;\">A2780S_CT_R_TTTGTCAGTCTGGTCG</td><td style = \"text-align: right;\">18152</td><td style = \"text-align: right;\">3899</td><td style = \"text-align: right;\">0.0964081</td><td style = \"text-align: left;\">A2780S_CT_R</td></tr><tr><td class = \"rowNumber\" style = \"font-weight: bold; text-align: right;\">3449</td><td style = \"text-align: left;\">A2780S_CT_R_TTTGTCATCTGAAAGA</td><td style = \"text-align: right;\">1014</td><td style = \"text-align: right;\">683</td><td style = \"text-align: right;\">0.035503</td><td style = \"text-align: left;\">A2780S_CT_R</td></tr></tbody></table></div>"
      ],
      "text/latex": [
       "\\begin{tabular}{r|ccccc}\n",
       "\t& Cell\\_id & nFeatures & nGenes & percent\\_mito & Identity\\\\\n",
       "\t\\hline\n",
       "\t& String & Int64 & Int64 & Float64 & String\\\\\n",
       "\t\\hline\n",
       "\t1 & A2780S\\_CT\\_S\\_AAACCTGCAGGGTATG & 19540 & 3903 & 0.0511259 & A2780S\\_CT\\_S \\\\\n",
       "\t2 & A2780S\\_CT\\_S\\_AAACCTGGTAGCGTCC & 19408 & 3499 & 0.0312758 & A2780S\\_CT\\_S \\\\\n",
       "\t3 & A2780S\\_CT\\_S\\_AAACCTGGTATAGGGC & 1643 & 859 & 0.0182593 & A2780S\\_CT\\_S \\\\\n",
       "\t4 & A2780S\\_CT\\_S\\_AAACCTGGTGAAGGCT & 970 & 661 & 0.0515464 & A2780S\\_CT\\_S \\\\\n",
       "\t5 & A2780S\\_CT\\_S\\_AAACCTGGTGCCTTGG & 580 & 404 & 0.0396552 & A2780S\\_CT\\_S \\\\\n",
       "\t6 & A2780S\\_CT\\_S\\_AAACCTGTCAGTTTGG & 1162 & 680 & 0.0301205 & A2780S\\_CT\\_S \\\\\n",
       "\t7 & A2780S\\_CT\\_S\\_AAACCTGTCATGCAAC & 1408 & 810 & 0.024858 & A2780S\\_CT\\_S \\\\\n",
       "\t8 & A2780S\\_CT\\_S\\_AAACGGGCAAGGTGTG & 14693 & 3462 & 0.0811271 & A2780S\\_CT\\_S \\\\\n",
       "\t9 & A2780S\\_CT\\_S\\_AAACGGGCACATCTTT & 6551 & 2232 & 0.0619753 & A2780S\\_CT\\_S \\\\\n",
       "\t10 & A2780S\\_CT\\_S\\_AAACGGGCAGGCGATA & 2156 & 864 & 0.405844 & A2780S\\_CT\\_S \\\\\n",
       "\t11 & A2780S\\_CT\\_S\\_AAACGGGTCCGAAGAG & 638 & 415 & 0.109718 & A2780S\\_CT\\_S \\\\\n",
       "\t12 & A2780S\\_CT\\_S\\_AAACGGGTCCTTTCGG & 4667 & 1749 & 0.0694236 & A2780S\\_CT\\_S \\\\\n",
       "\t13 & A2780S\\_CT\\_S\\_AAACGGGTCTTCAACT & 14647 & 3743 & 0.0660886 & A2780S\\_CT\\_S \\\\\n",
       "\t14 & A2780S\\_CT\\_S\\_AAAGATGAGGCCCTTG & 2358 & 1097 & 0.0831213 & A2780S\\_CT\\_S \\\\\n",
       "\t15 & A2780S\\_CT\\_S\\_AAAGATGTCCGCTGTT & 1128 & 656 & 0.0531915 & A2780S\\_CT\\_S \\\\\n",
       "\t16 & A2780S\\_CT\\_S\\_AAAGATGTCGATCCCT & 1246 & 627 & 0.132424 & A2780S\\_CT\\_S \\\\\n",
       "\t17 & A2780S\\_CT\\_S\\_AAAGCAACACGGTGTC & 16416 & 3604 & 0.0677997 & A2780S\\_CT\\_S \\\\\n",
       "\t18 & A2780S\\_CT\\_S\\_AAAGCAACACTTCTGC & 12951 & 3454 & 0.0938924 & A2780S\\_CT\\_S \\\\\n",
       "\t19 & A2780S\\_CT\\_S\\_AAAGCAAGTCACTTCC & 650 & 434 & 0.0323077 & A2780S\\_CT\\_S \\\\\n",
       "\t20 & A2780S\\_CT\\_S\\_AAAGCAAGTGCGATAG & 21276 & 4060 & 0.0903835 & A2780S\\_CT\\_S \\\\\n",
       "\t21 & A2780S\\_CT\\_S\\_AAAGCAATCCAGAAGG & 900 & 551 & 0.0666667 & A2780S\\_CT\\_S \\\\\n",
       "\t22 & A2780S\\_CT\\_S\\_AAAGTAGCACATCCAA & 7867 & 2527 & 0.0911402 & A2780S\\_CT\\_S \\\\\n",
       "\t23 & A2780S\\_CT\\_S\\_AAAGTAGCATCTACGA & 3691 & 1519 & 0.0571661 & A2780S\\_CT\\_S \\\\\n",
       "\t24 & A2780S\\_CT\\_S\\_AAAGTAGTCACGCGGT & 14666 & 3569 & 0.100095 & A2780S\\_CT\\_S \\\\\n",
       "\t25 & A2780S\\_CT\\_S\\_AAATGCCAGTACGACG & 1473 & 977 & 0.0346232 & A2780S\\_CT\\_S \\\\\n",
       "\t26 & A2780S\\_CT\\_S\\_AAATGCCGTTAAAGTG & 2979 & 1219 & 0.328634 & A2780S\\_CT\\_S \\\\\n",
       "\t27 & A2780S\\_CT\\_S\\_AACACGTAGAGAACAG & 17375 & 3480 & 0.0828201 & A2780S\\_CT\\_S \\\\\n",
       "\t28 & A2780S\\_CT\\_S\\_AACACGTCAGGGTTAG & 1368 & 725 & 0.0899123 & A2780S\\_CT\\_S \\\\\n",
       "\t29 & A2780S\\_CT\\_S\\_AACACGTCATCCTAGA & 704 & 457 & 0.015625 & A2780S\\_CT\\_S \\\\\n",
       "\t30 & A2780S\\_CT\\_S\\_AACACGTTCCACTGGG & 19627 & 4173 & 0.0878891 & A2780S\\_CT\\_S \\\\\n",
       "\t$\\dots$ & $\\dots$ & $\\dots$ & $\\dots$ & $\\dots$ & $\\dots$ \\\\\n",
       "\\end{tabular}\n"
      ],
      "text/plain": [
       "\u001b[1m3449×5 DataFrame\u001b[0m\n",
       "\u001b[1m  Row \u001b[0m│\u001b[1m Cell_id                      \u001b[0m\u001b[1m nFeatures \u001b[0m\u001b[1m nGenes \u001b[0m\u001b[1m percent_mito \u001b[0m\u001b[1m Identit\u001b[0m ⋯\n",
       "      │\u001b[90m String                       \u001b[0m\u001b[90m Int64     \u001b[0m\u001b[90m Int64  \u001b[0m\u001b[90m Float64      \u001b[0m\u001b[90m String \u001b[0m ⋯\n",
       "──────┼─────────────────────────────────────────────────────────────────────────\n",
       "    1 │ A2780S_CT_S_AAACCTGCAGGGTATG      19540    3903    0.0511259   A2780S_ ⋯\n",
       "    2 │ A2780S_CT_S_AAACCTGGTAGCGTCC      19408    3499    0.0312758   A2780S_\n",
       "    3 │ A2780S_CT_S_AAACCTGGTATAGGGC       1643     859    0.0182593   A2780S_\n",
       "    4 │ A2780S_CT_S_AAACCTGGTGAAGGCT        970     661    0.0515464   A2780S_\n",
       "    5 │ A2780S_CT_S_AAACCTGGTGCCTTGG        580     404    0.0396552   A2780S_ ⋯\n",
       "    6 │ A2780S_CT_S_AAACCTGTCAGTTTGG       1162     680    0.0301205   A2780S_\n",
       "    7 │ A2780S_CT_S_AAACCTGTCATGCAAC       1408     810    0.024858    A2780S_\n",
       "    8 │ A2780S_CT_S_AAACGGGCAAGGTGTG      14693    3462    0.0811271   A2780S_\n",
       "    9 │ A2780S_CT_S_AAACGGGCACATCTTT       6551    2232    0.0619753   A2780S_ ⋯\n",
       "   10 │ A2780S_CT_S_AAACGGGCAGGCGATA       2156     864    0.405844    A2780S_\n",
       "   11 │ A2780S_CT_S_AAACGGGTCCGAAGAG        638     415    0.109718    A2780S_\n",
       "  ⋮   │              ⋮                    ⋮        ⋮          ⋮             ⋮  ⋱\n",
       " 3440 │ A2780S_CT_R_TTTATGCTCGTTTATC      12482    3103    0.0837206   A2780S_\n",
       " 3441 │ A2780S_CT_R_TTTCCTCAGAGTAATC      20428    4161    0.0847366   A2780S_ ⋯\n",
       " 3442 │ A2780S_CT_R_TTTCCTCGTCTCGTTC        582     427    0.00859107  A2780S_\n",
       " 3443 │ A2780S_CT_R_TTTCCTCGTGCACCAC      30806    4463    0.0986172   A2780S_\n",
       " 3444 │ A2780S_CT_R_TTTCCTCTCGCGGATC       4084    1926    0.0178746   A2780S_\n",
       " 3445 │ A2780S_CT_R_TTTGCGCAGTAGGTGC      18452    3845    0.0730002   A2780S_ ⋯\n",
       " 3446 │ A2780S_CT_R_TTTGGTTGTTACGTCA        541     386    0.0332717   A2780S_\n",
       " 3447 │ A2780S_CT_R_TTTGTCACAACAACCT      19118    3891    0.0800816   A2780S_\n",
       " 3448 │ A2780S_CT_R_TTTGTCAGTCTGGTCG      18152    3899    0.0964081   A2780S_\n",
       " 3449 │ A2780S_CT_R_TTTGTCATCTGAAAGA       1014     683    0.035503    A2780S_ ⋯\n",
       "\u001b[36m                                                  1 column and 3428 rows omitted\u001b[0m"
      ]
     },
     "execution_count": 11,
     "metadata": {},
     "output_type": "execute_result"
    }
   ],
   "source": [
    "A2780.metaData"
   ]
  },
  {
   "cell_type": "markdown",
   "id": "5e4e4fb4",
   "metadata": {},
   "source": [
    "## Normalization"
   ]
  },
  {
   "cell_type": "code",
   "execution_count": 12,
   "id": "4e1ef1fb",
   "metadata": {},
   "outputs": [
    {
     "name": "stderr",
     "output_type": "stream",
     "text": [
      "Internal error: stack overflow in type inference of _is_fixed(SparseArrays.SparseVector{Float64, Int64}, SparseArrays.SparseVector{Float64, Int64}, SparseArrays.SparseVector{Float64, Int64}, SparseArrays.SparseVector{Float64, Int64}, SparseArrays.SparseVector{Float64, Int64}, SparseArrays.SparseVector{Float64, Int64}, SparseArrays.SparseVector{Float64, Int64}, SparseArrays.SparseVector{Float64, Int64}, SparseArrays.SparseVector{Float64, Int64}, SparseArrays.SparseVector{Float64, Int64}, SparseArrays.SparseVector{Float64, Int64}, SparseArrays.SparseVector{Float64, Int64}, SparseArrays.SparseVector{Float64, Int64}, SparseArrays.SparseVector{Float64, Int64}, SparseArrays.SparseVector{Float64, Int64}, SparseArrays.SparseVector{Float64, Int64}, SparseArrays.SparseVector{Float64, Int64}, SparseArrays.SparseVector{Float64, Int64}, SparseArrays.SparseVector{Float64, Int64}, SparseArrays.SparseVector{Float64, Int64}, SparseArrays.SparseVector{Float64, Int64}, SparseArrays.SparseVector{Float64, Int64}, SparseArrays.SparseVector{Float64, Int64}, SparseArrays.SparseVector{Float64, Int64}, SparseArrays.SparseVector{Float64, Int64}, SparseArrays.SparseVector{Float64, Int64}, SparseArrays.SparseVector{Float64, Int64}, SparseArrays.SparseVector{Float64, Int64}, SparseArrays.SparseVector{Float64, Int64}, SparseArrays.SparseVector{Float64, Int64}, SparseArrays.SparseVector{Float64, Int64}, SparseArrays.SparseVector{Float64, Int64}, SparseArrays.SparseVector{Float64, Int64}, SparseArrays.SparseVector{Float64, Int64}, SparseArrays.SparseVector{Float64, Int64}, SparseArrays.SparseVector{Float64, Int64}, SparseArrays.SparseVector{Float64, Int64}, SparseArrays.SparseVector{Float64, Int64}, SparseArrays.SparseVector{Float64, Int64}, SparseArrays.SparseVector{Float64, Int64}, SparseArrays.SparseVector{Float64, Int64}, SparseArrays.SparseVector{Float64, Int64}, SparseArrays.SparseVector{Float64, Int64}, SparseArrays.SparseVector{Float64, Int64}, SparseArrays.SparseVector{Float64, Int64}, SparseArrays.SparseVector{Float64, Int64}, SparseArrays.SparseVector{Float64, Int64}, SparseArrays.SparseVector{Float64, Int64}, SparseArrays.SparseVector{Float64, Int64}, SparseArrays.SparseVector{Float64, Int64}, SparseArrays.SparseVector{Float64, Int64}, SparseArrays.SparseVector{Float64, Int64}, SparseArrays.SparseVector{Float64, Int64}, SparseArrays.SparseVector{Float64, Int64}, SparseArrays.SparseVector{Float64, Int64}, SparseArrays.SparseVector{Float64, Int64}, SparseArrays.SparseVector{Float64, Int64}, SparseArrays.SparseVector{Float64, Int64}, SparseArrays.SparseVector{Float64, Int64}, SparseArrays.SparseVector{Float64, Int64}, SparseArrays.SparseVector{Float64, Int64}, SparseArrays.SparseVector{Float64, Int64}, SparseArrays.SparseVector{Float64, Int64}, SparseArrays.SparseVector{Float64, Int64}, SparseArrays.SparseVector{Float64, Int64}, SparseArrays.SparseVector{Float64, Int64}, SparseArrays.SparseVector{Float64, Int64}, SparseArrays.SparseVector{Float64, Int64}, SparseArrays.SparseVector{Float64, Int64}, SparseArrays.SparseVector{Float64, Int64}, SparseArrays.SparseVector{Float64, Int64}, SparseArrays.SparseVector{Float64, Int64}, SparseArrays.SparseVector{Float64, Int64}, SparseArrays.SparseVector{Float64, Int64}, SparseArrays.SparseVector{Float64, Int64}, SparseArrays.SparseVector{Float64, Int64}, SparseArrays.SparseVector{Float64, Int64}, SparseArrays.SparseVector{Float64, Int64}, SparseArrays.SparseVector{Float64, Int64}, SparseArrays.SparseVector{Float64, Int64}, SparseArrays.SparseVector{Float64, Int64}, SparseArrays.SparseVector{Float64, Int64}, SparseArrays.SparseVector{Float64, Int64}, SparseArrays.SparseVector{Float64, Int64}, SparseArrays.SparseVector{Float64, Int64}, SparseArrays.SparseVector{Float64, Int64}, SparseArrays.SparseVector{Float64, Int64}, SparseArrays.SparseVector{Float64, Int64}, SparseArrays.SparseVector{Float64, Int64}, SparseArrays.SparseVector{Float64, Int64}, SparseArrays.SparseVector{Float64, Int64}, SparseArrays.SparseVector{Float64, Int64}, SparseArrays.SparseVector{Float64, Int64}, SparseArrays.SparseVector{Float64, Int64}, SparseArrays.SparseVector{Float64, Int64}, SparseArrays.SparseVector{Float64, Int64}, SparseArrays.SparseVector{Float64, Int64}, SparseArrays.SparseVector{Float64, Int64}, SparseArrays.SparseVector{Float64, Int64}, SparseArrays.SparseVector{Float64, Int64}, SparseArrays.SparseVector{Float64, Int64}, SparseArrays.SparseVector{Float64, Int64}, SparseArrays.SparseVector{Float64, Int64}, SparseArrays.SparseVector{Float64, Int64}, SparseArrays.SparseVector{Float64, Int64}, SparseArrays.SparseVector{Float64, Int64}, SparseArrays.SparseVector{Float64, Int64}, SparseArrays.SparseVector{Float64, Int64}, SparseArrays.SparseVector{Float64, Int64}, SparseArrays.SparseVector{Float64, Int64}, SparseArrays.SparseVector{Float64, Int64}, SparseArrays.SparseVector{Float64, Int64}, SparseArrays.SparseVector{Float64, Int64}, SparseArrays.SparseVector{Float64, Int64}, SparseArrays.SparseVector{Float64, Int64}, SparseArrays.SparseVector{Float64, Int64}, SparseArrays.SparseVector{Float64, Int64}, SparseArrays.SparseVector{Float64, Int64}, SparseArrays.SparseVector{Float64, Int64}, SparseArrays.SparseVector{Float64, Int64}, SparseArrays.SparseVector{Float64, Int64}, SparseArrays.SparseVector{Float64, Int64}, SparseArrays.SparseVector{Float64, Int64}, SparseArrays.SparseVector{Float64, Int64}, SparseArrays.SparseVector{Float64, Int64}, SparseArrays.SparseVector{Float64, Int64}, SparseArrays.SparseVector{Float64, Int64}, SparseArrays.SparseVector{Float64, Int64}, SparseArrays.SparseVector{Float64, Int64}, SparseArrays.SparseVector{Float64, Int64}, SparseArrays.SparseVector{Float64, Int64}, SparseArrays.SparseVector{Float64, Int64}, SparseArrays.SparseVector{Float64, Int64}, SparseArrays.SparseVector{Float64, Int64}, SparseArrays.SparseVector{Float64, Int64}, SparseArrays.SparseVector{Float64, Int64}, SparseArrays.SparseVector{Float64, Int64}, SparseArrays.SparseVector{Float64, Int64}, SparseArrays.SparseVector{Float64, Int64}, SparseArrays.SparseVector{Float64, Int64}, SparseArrays.SparseVector{Float64, Int64}, SparseArrays.SparseVector{Float64, Int64}, SparseArrays.SparseVector{Float64, Int64}, SparseArrays.SparseVector{Float64, Int64}, SparseArrays.SparseVector{Float64, Int64}, SparseArrays.SparseVector{Float64, Int64}, SparseArrays.SparseVector{Float64, Int64}, SparseArrays.SparseVector{Float64, Int64}, SparseArrays.SparseVector{Float64, Int64}, SparseArrays.SparseVector{Float64, Int64}, SparseArrays.SparseVector{Float64, Int64}, SparseArrays.SparseVector{Float64, Int64}, SparseArrays.SparseVector{Float64, Int64}, SparseArrays.SparseVector{Float64, Int64}, SparseArrays.SparseVector{Float64, Int64}, SparseArrays.SparseVector{Float64, Int64}, SparseArrays.SparseVector{Float64, Int64}, SparseArrays.SparseVector{Float64, Int64}, SparseArrays.SparseVector{Float64, Int64}, SparseArrays.SparseVector{Float64, Int64}, SparseArrays.SparseVector{Float64, Int64}, SparseArrays.SparseVector{Float64, Int64}, SparseArrays.SparseVector{Float64, Int64}, SparseArrays.SparseVector{Float64, Int64}, SparseArrays.SparseVector{Float64, Int64}, SparseArrays.SparseVector{Float64, Int64}, SparseArrays.SparseVector{Float64, Int64}, SparseArrays.SparseVector{Float64, Int64}, SparseArrays.SparseVector{Float64, Int64}, SparseArrays.SparseVector{Float64, Int64}, SparseArrays.SparseVector{Float64, Int64}, SparseArrays.SparseVector{Float64, Int64}, SparseArrays.SparseVector{Float64, Int64}, SparseArrays.SparseVector{Float64, Int64}, SparseArrays.SparseVector{Float64, Int64}, SparseArrays.SparseVector{Float64, Int64}, SparseArrays.SparseVector{Float64, Int64}, SparseArrays.SparseVector{Float64, Int64}, SparseArrays.SparseVector{Float64, Int64}, SparseArrays.SparseVector{Float64, Int64}, SparseArrays.SparseVector{Float64, Int64}, SparseArrays.SparseVector{Float64, Int64}, SparseArrays.SparseVector{Float64, Int64}, SparseArrays.SparseVector{Float64, Int64}, SparseArrays.SparseVector{Float64, Int64}, SparseArrays.SparseVector{Float64, Int64}, SparseArrays.SparseVector{Float64, Int64}, SparseArrays.SparseVector{Float64, Int64}, SparseArrays.SparseVector{Float64, Int64}, SparseArrays.SparseVector{Float64, Int64}, SparseArrays.SparseVector{Float64, Int64}, SparseArrays.SparseVector{Float64, Int64}, SparseArrays.SparseVector{Float64, Int64}, SparseArrays.SparseVector{Float64, Int64}, SparseArrays.SparseVector{Float64, Int64}, SparseArrays.SparseVector{Float64, Int64}, SparseArrays.SparseVector{Float64, Int64}, SparseArrays.SparseVector{Float64, Int64}, SparseArrays.SparseVector{Float64, Int64}, SparseArrays.SparseVector{Float64, Int64}, SparseArrays.SparseVector{Float64, Int64}, SparseArrays.SparseVector{Float64, Int64}, SparseArrays.SparseVector{Float64, Int64}, SparseArrays.SparseVector{Float64, Int64}, SparseArrays.SparseVector{Float64, Int64}, SparseArrays.SparseVector{Float64, Int64}, SparseArrays.SparseVector{Float64, Int64}, SparseArrays.SparseVector{Float64, Int64}, SparseArrays.SparseVector{Float64, Int64}, SparseArrays.SparseVector{Float64, Int64}, SparseArrays.SparseVector{Float64, Int64}, SparseArrays.SparseVector{Float64, Int64}, SparseArrays.SparseVector{Float64, Int64}, SparseArrays.SparseVector{Float64, Int64}, SparseArrays.SparseVector{Float64, Int64}, SparseArrays.SparseVector{Float64, Int64}, SparseArrays.SparseVector{Float64, Int64}, SparseArrays.SparseVector{Float64, Int64}, SparseArrays.SparseVector{Float64, Int64}, SparseArrays.SparseVector{Float64, Int64}, SparseArrays.SparseVector{Float64, Int64}, SparseArrays.SparseVector{Float64, Int64}, SparseArrays.SparseVector{Float64, Int64}, SparseArrays.SparseVector{Float64, Int64}, SparseArrays.SparseVector{Float64, Int64}, SparseArrays.SparseVector{Float64, Int64}, SparseArrays.SparseVector{Float64, Int64}, SparseArrays.SparseVector{Float64, Int64}, SparseArrays.SparseVector{Float64, Int64}, SparseArrays.SparseVector{Float64, Int64}, SparseArrays.SparseVector{Float64, Int64}, SparseArrays.SparseVector{Float64, Int64}, SparseArrays.SparseVector{Float64, Int64}, SparseArrays.SparseVector{Float64, Int64}, SparseArrays.SparseVector{Float64, Int64}, SparseArrays.SparseVector{Float64, Int64}, SparseArrays.SparseVector{Float64, Int64}, SparseArrays.SparseVector{Float64, Int64}, SparseArrays.SparseVector{Float64, Int64}, SparseArrays.SparseVector{Float64, Int64}, SparseArrays.SparseVector{Float64, Int64}, SparseArrays.SparseVector{Float64, Int64}, SparseArrays.SparseVector{Float64, Int64}, SparseArrays.SparseVector{Float64, Int64}, SparseArrays.SparseVector{Float64, Int64}, SparseArrays.SparseVector{Float64, Int64}, SparseArrays.SparseVector{Float64, Int64}, SparseArrays.SparseVector{Float64, Int64}, SparseArrays.SparseVector{Float64, Int64}, SparseArrays.SparseVector{Float64, Int64}, SparseArrays.SparseVector{Float64, Int64}, SparseArrays.SparseVector{Float64, Int64}, SparseArrays.SparseVector{Float64, Int64}, SparseArrays.SparseVector{Float64, Int64}, SparseArrays.SparseVector{Float64, Int64}, SparseArrays.SparseVector{Float64, Int64}, SparseArrays.SparseVector{Float64, Int64}, SparseArrays.SparseVector{Float64, Int64}, SparseArrays.SparseVector{Float64, Int64}, SparseArrays.SparseVector{Float64, Int64}, SparseArrays.SparseVector{Float64, Int64}, SparseArrays.SparseVector{Float64, Int64}, SparseArrays.SparseVector{Float64, Int64}, SparseArrays.SparseVector{Float64, Int64}, SparseArrays.SparseVector{Float64, Int64}, SparseArrays.SparseVector{Float64, Int64}, SparseArrays.SparseVector{Float64, Int64}, SparseArrays.SparseVector{Float64, Int64}, SparseArrays.SparseVector{Float64, Int64}, SparseArrays.SparseVector{Float64, Int64}, SparseArrays.SparseVector{Float64, Int64}, SparseArrays.SparseVector{Float64, Int64}, SparseArrays.SparseVector{Float64, Int64}, SparseArrays.SparseVector{Float64, Int64}, SparseArrays.SparseVector{Float64, Int64}, SparseArrays.SparseVector{Float64, Int64}, SparseArrays.SparseVector{Float64, Int64}, SparseArrays.SparseVector{Float64, Int64}, SparseArrays.SparseVector{Float64, Int64}, SparseArrays.SparseVector{Float64, Int64}, SparseArrays.SparseVector{Float64, Int64}, SparseArrays.SparseVector{Float64, Int64}, SparseArrays.SparseVector{Float64, Int64}, SparseArrays.SparseVector{Float64, Int64}, SparseArrays.SparseVector{Float64, Int64}, SparseArrays.SparseVector{Float64, Int64}, SparseArrays.SparseVector{Float64, Int64}, SparseArrays.SparseVector{Float64, Int64}, SparseArrays.SparseVector{Float64, Int64}, SparseArrays.SparseVector{Float64, Int64}, SparseArrays.SparseVector{Float64, Int64}, SparseArrays.SparseVector{Float64, Int64}, SparseArrays.SparseVector{Float64, Int64}, SparseArrays.SparseVector{Float64, Int64}, SparseArrays.SparseVector{Float64, Int64}, SparseArrays.SparseVector{Float64, Int64}, SparseArrays.SparseVector{Float64, Int64}, SparseArrays.SparseVector{Float64, Int64}, SparseArrays.SparseVector{Float64, Int64}, SparseArrays.SparseVector{Float64, Int64}, SparseArrays.SparseVector{Float64, Int64}, SparseArrays.SparseVector{Float64, Int64}, SparseArrays.SparseVector{Float64, Int64}, SparseArrays.SparseVector{Float64, Int64}, SparseArrays.SparseVector{Float64, Int64}, SparseArrays.SparseVector{Float64, Int64}, SparseArrays.SparseVector{Float64, Int64}, SparseArrays.SparseVector{Float64, Int64}, SparseArrays.SparseVector{Float64, Int64}, SparseArrays.SparseVector{Float64, Int64}, SparseArrays.SparseVector{Float64, Int64}, SparseArrays.SparseVector{Float64, Int64}, SparseArrays.SparseVector{Float64, Int64}, SparseArrays.SparseVector{Float64, Int64}, SparseArrays.SparseVector{Float64, Int64}, SparseArrays.SparseVector{Float64, Int64}, SparseArrays.SparseVector{Float64, Int64}, SparseArrays.SparseVector{Float64, Int64}, SparseArrays.SparseVector{Float64, Int64}, SparseArrays.SparseVector{Float64, Int64}, SparseArrays.SparseVector{Float64, Int64}, SparseArrays.SparseVector{Float64, Int64}, SparseArrays.SparseVector{Float64, Int64}, SparseArrays.SparseVector{Float64, Int64}, SparseArrays.SparseVector{Float64, Int64}, SparseArrays.SparseVector{Float64, Int64}, SparseArrays.SparseVector{Float64, Int64}, SparseArrays.SparseVector{Float64, Int64}, SparseArrays.SparseVector{Float64, Int64}, SparseArrays.SparseVector{Float64, Int64}, SparseArrays.SparseVector{Float64, Int64}, SparseArrays.SparseVector{Float64, Int64}, SparseArrays.SparseVector{Float64, Int64}, SparseArrays.SparseVector{Float64, Int64}, SparseArrays.SparseVector{Float64, Int64}, SparseArrays.SparseVector{Float64, Int64}, SparseArrays.SparseVector{Float64, Int64}, SparseArrays.SparseVector{Float64, Int64}, SparseArrays.SparseVector{Float64, Int64}, SparseArrays.SparseVector{Float64, Int64}, SparseArrays.SparseVector{Float64, Int64}, SparseArrays.SparseVector{Float64, Int64}, SparseArrays.SparseVector{Float64, Int64}, SparseArrays.SparseVector{Float64, Int64}, SparseArrays.SparseVector{Float64, Int64}, SparseArrays.SparseVector{Float64, Int64}, SparseArrays.SparseVector{Float64, Int64}, SparseArrays.SparseVector{Float64, Int64}, SparseArrays.SparseVector{Float64, Int64}, SparseArrays.SparseVector{Float64, Int64}, SparseArrays.SparseVector{Float64, Int64}, SparseArrays.SparseVector{Float64, Int64}, SparseArrays.SparseVector{Float64, Int64}, SparseArrays.SparseVector{Float64, Int64}, SparseArrays.SparseVector{Float64, Int64}, SparseArrays.SparseVector{Float64, Int64}, SparseArrays.SparseVector{Float64, Int64}, SparseArrays.SparseVector{Float64, Int64}, SparseArrays.SparseVector{Float64, Int64}, SparseArrays.SparseVector{Float64, Int64}, SparseArrays.SparseVector{Float64, Int64}, SparseArrays.SparseVector{Float64, Int64}, SparseArrays.SparseVector{Float64, Int64}, SparseArrays.SparseVector{Float64, Int64}, SparseArrays.SparseVector{Float64, Int64}, SparseArrays.SparseVector{Float64, Int64}, SparseArrays.SparseVector{Float64, Int64}, SparseArrays.SparseVector{Float64, Int64}, SparseArrays.SparseVector{Float64, Int64}, SparseArrays.SparseVector{Float64, Int64}, SparseArrays.SparseVector{Float64, Int64}, SparseArrays.SparseVector{Float64, Int64}, SparseArrays.SparseVector{Float64, Int64}, SparseArrays.SparseVector{Float64, Int64}, SparseArrays.SparseVector{Float64, Int64}, SparseArrays.SparseVector{Float64, Int64}, SparseArrays.SparseVector{Float64, Int64}, SparseArrays.SparseVector{Float64, Int64}, SparseArrays.SparseVector{Float64, Int64}, SparseArrays.SparseVector{Float64, Int64}, SparseArrays.SparseVector{Float64, Int64}, SparseArrays.SparseVector{Float64, Int64}, SparseArrays.SparseVector{Float64, Int64}, SparseArrays.SparseVector{Float64, Int64}, SparseArrays.SparseVector{Float64, Int64}, SparseArrays.SparseVector{Float64, Int64}, SparseArrays.SparseVector{Float64, Int64}, SparseArrays.SparseVector{Float64, Int64}, SparseArrays.SparseVector{Float64, Int64}, SparseArrays.SparseVector{Float64, Int64}, SparseArrays.SparseVector{Float64, Int64}, SparseArrays.SparseVector{Float64, Int64}, SparseArrays.SparseVector{Float64, Int64}, SparseArrays.SparseVector{Float64, Int64}, SparseArrays.SparseVector{Float64, Int64}, SparseArrays.SparseVector{Float64, Int64}, SparseArrays.SparseVector{Float64, Int64}, SparseArrays.SparseVector{Float64, Int64}, SparseArrays.SparseVector{Float64, Int64}, SparseArrays.SparseVector{Float64, Int64}, SparseArrays.SparseVector{Float64, Int64}, SparseArrays.SparseVector{Float64, Int64}, SparseArrays.SparseVector{Float64, Int64}, SparseArrays.SparseVector{Float64, Int64}, SparseArrays.SparseVector{Float64, Int64}, SparseArrays.SparseVector{Float64, Int64}, SparseArrays.SparseVector{Float64, Int64}, SparseArrays.SparseVector{Float64, Int64}, SparseArrays.SparseVector{Float64, Int64}, SparseArrays.SparseVector{Float64, Int64}, SparseArrays.SparseVector{Float64, Int64}, SparseArrays.SparseVector{Float64, Int64}, SparseArrays.SparseVector{Float64, Int64}, SparseArrays.SparseVector{Float64, Int64}, SparseArrays.SparseVector{Float64, Int64}, SparseArrays.SparseVector{Float64, Int64}, SparseArrays.SparseVector{Float64, Int64}, SparseArrays.SparseVector{Float64, Int64}, SparseArrays.SparseVector{Float64, Int64}, SparseArrays.SparseVector{Float64, Int64}, SparseArrays.SparseVector{Float64, Int64}, SparseArrays.SparseVector{Float64, Int64}, SparseArrays.SparseVector{Float64, Int64}, SparseArrays.SparseVector{Float64, Int64}, SparseArrays.SparseVector{Float64, Int64}, SparseArrays.SparseVector{Float64, Int64}, SparseArrays.SparseVector{Float64, Int64}, SparseArrays.SparseVector{Float64, Int64}, SparseArrays.SparseVector{Float64, Int64}, SparseArrays.SparseVector{Float64, Int64}, SparseArrays.SparseVector{Float64, Int64}, SparseArrays.SparseVector{Float64, Int64}, SparseArrays.SparseVector{Float64, Int64}, SparseArrays.SparseVector{Float64, Int64}, SparseArrays.SparseVector{Float64, Int64}, SparseArrays.SparseVector{Float64, Int64}, SparseArrays.SparseVector{Float64, Int64}, SparseArrays.SparseVector{Float64, Int64}, SparseArrays.SparseVector{Float64, Int64}, SparseArrays.SparseVector{Float64, Int64}, SparseArrays.SparseVector{Float64, Int64}, SparseArrays.SparseVector{Float64, Int64}, SparseArrays.SparseVector{Float64, Int64}, SparseArrays.SparseVector{Float64, Int64}, SparseArrays.SparseVector{Float64, Int64}, SparseArrays.SparseVector{Float64, Int64}, SparseArrays.SparseVector{Float64, Int64}, SparseArrays.SparseVector{Float64, Int64}, SparseArrays.SparseVector{Float64, Int64}, SparseArrays.SparseVector{Float64, Int64}, SparseArrays.SparseVector{Float64, Int64}, SparseArrays.SparseVector{Float64, Int64}, SparseArrays.SparseVector{Float64, Int64}, SparseArrays.SparseVector{Float64, Int64}, SparseArrays.SparseVector{Float64, Int64}, SparseArrays.SparseVector{Float64, Int64}, SparseArrays.SparseVector{Float64, Int64}, SparseArrays.SparseVector{Float64, Int64}, SparseArrays.SparseVector{Float64, Int64}, SparseArrays.SparseVector{Float64, Int64}, SparseArrays.SparseVector{Float64, Int64}, SparseArrays.SparseVector{Float64, Int64}, SparseArrays.SparseVector{Float64, Int64}, SparseArrays.SparseVector{Float64, Int64}, SparseArrays.SparseVector{Float64, Int64}, SparseArrays.SparseVector{Float64, Int64}, SparseArrays.SparseVector{Float64, Int64}, SparseArrays.SparseVector{Float64, Int64}, SparseArrays.SparseVector{Float64, Int64}, SparseArrays.SparseVector{Float64, Int64}, SparseArrays.SparseVector{Float64, Int64}, SparseArrays.SparseVector{Float64, Int64}, SparseArrays.SparseVector{Float64, Int64}, SparseArrays.SparseVector{Float64, Int64}, SparseArrays.SparseVector{Float64, Int64}, SparseArrays.SparseVector{Float64, Int64}, SparseArrays.SparseVector{Float64, Int64}, SparseArrays.SparseVector{Float64, Int64}, SparseArrays.SparseVector{Float64, Int64}, SparseArrays.SparseVector{Float64, Int64}, SparseArrays.SparseVector{Float64, Int64}, SparseArrays.SparseVector{Float64, Int64}, SparseArrays.SparseVector{Float64, Int64}, SparseArrays.SparseVector{Float64, Int64}, SparseArrays.SparseVector{Float64, Int64}, SparseArrays.SparseVector{Float64, Int64}, SparseArrays.SparseVector{Float64, Int64}, SparseArrays.SparseVector{Float64, Int64}, SparseArrays.SparseVector{Float64, Int64}, SparseArrays.SparseVector{Float64, Int64}, SparseArrays.SparseVector{Float64, Int64}, SparseArrays.SparseVector{Float64, Int64}, SparseArrays.SparseVector{Float64, Int64}, SparseArrays.SparseVector{Float64, Int64}, SparseArrays.SparseVector{Float64, Int64}, SparseArrays.SparseVector{Float64, Int64}, SparseArrays.SparseVector{Float64, Int64}, SparseArrays.SparseVector{Float64, Int64}, SparseArrays.SparseVector{Float64, Int64}, SparseArrays.SparseVector{Float64, Int64}, SparseArrays.SparseVector{Float64, Int64}, SparseArrays.SparseVector{Float64, Int64}, SparseArrays.SparseVector{Float64, Int64}, SparseArrays.SparseVector{Float64, Int64}, SparseArrays.SparseVector{Float64, Int64}, SparseArrays.SparseVector{Float64, Int64}, SparseArrays.SparseVector{Float64, Int64}, SparseArrays.SparseVector{Float64, Int64}, SparseArrays.SparseVector{Float64, Int64}, SparseArrays.SparseVector{Float64, Int64}, SparseArrays.SparseVector{Float64, Int64}, SparseArrays.SparseVector{Float64, Int64}, SparseArrays.SparseVector{Float64, Int64}, SparseArrays.SparseVector{Float64, Int64}, SparseArrays.SparseVector{Float64, Int64}, SparseArrays.SparseVector{Float64, Int64}, SparseArrays.SparseVector{Float64, Int64}, SparseArrays.SparseVector{Float64, Int64}, SparseArrays.SparseVector{Float64, Int64}, SparseArrays.SparseVector{Float64, Int64}, SparseArrays.SparseVector{Float64, Int64}, SparseArrays.SparseVector{Float64, Int64}, SparseArrays.SparseVector{Float64, Int64}, SparseArrays.SparseVector{Float64, Int64}, SparseArrays.SparseVector{Float64, Int64}, SparseArrays.SparseVector{Float64, Int64}, SparseArrays.SparseVector{Float64, Int64}, SparseArrays.SparseVector{Float64, Int64}, SparseArrays.SparseVector{Float64, Int64}, SparseArrays.SparseVector{Float64, Int64}, SparseArrays.SparseVector{Float64, Int64}, SparseArrays.SparseVector{Float64, Int64}, SparseArrays.SparseVector{Float64, Int64}, SparseArrays.SparseVector{Float64, Int64}, SparseArrays.SparseVector{Float64, Int64}, SparseArrays.SparseVector{Float64, Int64}, SparseArrays.SparseVector{Float64, Int64}, SparseArrays.SparseVector{Float64, Int64}, SparseArrays.SparseVector{Float64, Int64}, SparseArrays.SparseVector{Float64, Int64}, SparseArrays.SparseVector{Float64, Int64}, SparseArrays.SparseVector{Float64, Int64}, SparseArrays.SparseVector{Float64, Int64}, SparseArrays.SparseVector{Float64, Int64}, SparseArrays.SparseVector{Float64, Int64}, SparseArrays.SparseVector{Float64, Int64}, SparseArrays.SparseVector{Float64, Int64}, SparseArrays.SparseVector{Float64, Int64}, SparseArrays.SparseVector{Float64, Int64}, SparseArrays.SparseVector{Float64, Int64}, SparseArrays.SparseVector{Float64, Int64}, SparseArrays.SparseVector{Float64, Int64}, SparseArrays.SparseVector{Float64, Int64}, SparseArrays.SparseVector{Float64, Int64}, SparseArrays.SparseVector{Float64, Int64}, SparseArrays.SparseVector{Float64, Int64}, SparseArrays.SparseVector{Float64, Int64}, SparseArrays.SparseVector{Float64, Int64}, SparseArrays.SparseVector{Float64, Int64}, SparseArrays.SparseVector{Float64, Int64}, SparseArrays.SparseVector{Float64, Int64}, SparseArrays.SparseVector{Float64, Int64}, SparseArrays.SparseVector{Float64, Int64}, SparseArrays.SparseVector{Float64, Int64}, SparseArrays.SparseVector{Float64, Int64}, SparseArrays.SparseVector{Float64, Int64}, SparseArrays.SparseVector{Float64, Int64}, SparseArrays.SparseVector{Float64, Int64}, SparseArrays.SparseVector{Float64, Int64}, SparseArrays.SparseVector{Float64, Int64}, SparseArrays.SparseVector{Float64, Int64}, SparseArrays.SparseVector{Float64, Int64}, SparseArrays.SparseVector{Float64, Int64}, SparseArrays.SparseVector{Float64, Int64}, SparseArrays.SparseVector{Float64, Int64}, SparseArrays.SparseVector{Float64, Int64}, SparseArrays.SparseVector{Float64, Int64}, SparseArrays.SparseVector{Float64, Int64}, SparseArrays.SparseVector{Float64, Int64}, SparseArrays.SparseVector{Float64, Int64}, SparseArrays.SparseVector{Float64, Int64}, SparseArrays.SparseVector{Float64, Int64}, SparseArrays.SparseVector{Float64, Int64}, SparseArrays.SparseVector{Float64, Int64}, SparseArrays.SparseVector{Float64, Int64}, SparseArrays.SparseVector{Float64, Int64}, SparseArrays.SparseVector{Float64, Int64}, SparseArrays.SparseVector{Float64, Int64}, SparseArrays.SparseVector{Float64, Int64}, SparseArrays.SparseVector{Float64, Int64}, SparseArrays.SparseVector{Float64, Int64}, SparseArrays.SparseVector{Float64, Int64}, SparseArrays.SparseVector{Float64, Int64}, SparseArrays.SparseVector{Float64, Int64}, SparseArrays.SparseVector{Float64, Int64}, SparseArrays.SparseVector{Float64, Int64}, SparseArrays.SparseVector{Float64, Int64}, SparseArrays.SparseVector{Float64, Int64}, SparseArrays.SparseVector{Float64, Int64}, SparseArrays.SparseVector{Float64, Int64}, SparseArrays.SparseVector{Float64, Int64}, SparseArrays.SparseVector{Float64, Int64}, SparseArrays.SparseVector{Float64, Int64}, SparseArrays.SparseVector{Float64, Int64}, SparseArrays.SparseVector{Float64, Int64}, SparseArrays.SparseVector{Float64, Int64}, SparseArrays.SparseVector{Float64, Int64}, SparseArrays.SparseVector{Float64, Int64}, SparseArrays.SparseVector{Float64, Int64}, SparseArrays.SparseVector{Float64, Int64}, SparseArrays.SparseVector{Float64, Int64}, SparseArrays.SparseVector{Float64, Int64}, SparseArrays.SparseVector{Float64, Int64}, SparseArrays.SparseVector{Float64, Int64}, SparseArrays.SparseVector{Float64, Int64}, SparseArrays.SparseVector{Float64, Int64}, SparseArrays.SparseVector{Float64, Int64}, SparseArrays.SparseVector{Float64, Int64}, SparseArrays.SparseVector{Float64, Int64}, SparseArrays.SparseVector{Float64, Int64}, SparseArrays.SparseVector{Float64, Int64}, SparseArrays.SparseVector{Float64, Int64}, SparseArrays.SparseVector{Float64, Int64}, SparseArrays.SparseVector{Float64, Int64}, SparseArrays.SparseVector{Float64, Int64}, SparseArrays.SparseVector{Float64, Int64}, SparseArrays.SparseVector{Float64, Int64}, SparseArrays.SparseVector{Float64, Int64}, SparseArrays.SparseVector{Float64, Int64}, SparseArrays.SparseVector{Float64, Int64}, SparseArrays.SparseVector{Float64, Int64}, SparseArrays.SparseVector{Float64, Int64}, SparseArrays.SparseVector{Float64, Int64}, SparseArrays.SparseVector{Float64, Int64}, SparseArrays.SparseVector{Float64, Int64}, SparseArrays.SparseVector{Float64, Int64}, SparseArrays.SparseVector{Float64, Int64}, SparseArrays.SparseVector{Float64, Int64}, SparseArrays.SparseVector{Float64, Int64}, SparseArrays.SparseVector{Float64, Int64}, SparseArrays.SparseVector{Float64, Int64}, SparseArrays.SparseVector{Float64, Int64}, SparseArrays.SparseVector{Float64, Int64}, SparseArrays.SparseVector{Float64, Int64}, SparseArrays.SparseVector{Float64, Int64}, SparseArrays.SparseVector{Float64, Int64}, SparseArrays.SparseVector{Float64, Int64}, SparseArrays.SparseVector{Float64, Int64}, SparseArrays.SparseVector{Float64, Int64}, SparseArrays.SparseVector{Float64, Int64}, SparseArrays.SparseVector{Float64, Int64}, SparseArrays.SparseVector{Float64, Int64}, SparseArrays.SparseVector{Float64, Int64}, SparseArrays.SparseVector{Float64, Int64}, SparseArrays.SparseVector{Float64, Int64}, SparseArrays.SparseVector{Float64, Int64}, SparseArrays.SparseVector{Float64, Int64}, SparseArrays.SparseVector{Float64, Int64}, SparseArrays.SparseVector{Float64, Int64}, SparseArrays.SparseVector{Float64, Int64}, SparseArrays.SparseVector{Float64, Int64}, SparseArrays.SparseVector{Float64, Int64}, SparseArrays.SparseVector{Float64, Int64}, SparseArrays.SparseVector{Float64, Int64}, SparseArrays.SparseVector{Float64, Int64}, SparseArrays.SparseVector{Float64, Int64}, SparseArrays.SparseVector{Float64, Int64}, SparseArrays.SparseVector{Float64, Int64}, SparseArrays.SparseVector{Float64, Int64}, SparseArrays.SparseVector{Float64, Int64}, SparseArrays.SparseVector{Float64, Int64}, SparseArrays.SparseVector{Float64, Int64}, SparseArrays.SparseVector{Float64, Int64}, SparseArrays.SparseVector{Float64, Int64}, SparseArrays.SparseVector{Float64, Int64}, SparseArrays.SparseVector{Float64, Int64}, SparseArrays.SparseVector{Float64, Int64}, SparseArrays.SparseVector{Float64, Int64}, SparseArrays.SparseVector{Float64, Int64}, SparseArrays.SparseVector{Float64, Int64}, SparseArrays.SparseVector{Float64, Int64}, SparseArrays.SparseVector{Float64, Int64}, SparseArrays.SparseVector{Float64, Int64}, SparseArrays.SparseVector{Float64, Int64}, SparseArrays.SparseVector{Float64, Int64}, SparseArrays.SparseVector{Float64, Int64}, SparseArrays.SparseVector{Float64, Int64}, SparseArrays.SparseVector{Float64, Int64}, SparseArrays.SparseVector{Float64, Int64}, SparseArrays.SparseVector{Float64, Int64}, SparseArrays.SparseVector{Float64, Int64}, SparseArrays.SparseVector{Float64, Int64}, SparseArrays.SparseVector{Float64, Int64}, SparseArrays.SparseVector{Float64, Int64}, SparseArrays.SparseVector{Float64, Int64}, SparseArrays.SparseVector{Float64, Int64}, SparseArrays.SparseVector{Float64, Int64}, SparseArrays.SparseVector{Float64, Int64}, SparseArrays.SparseVector{Float64, Int64}, SparseArrays.SparseVector{Float64, Int64}, SparseArrays.SparseVector{Float64, Int64}, SparseArrays.SparseVector{Float64, Int64}, SparseArrays.SparseVector{Float64, Int64}, SparseArrays.SparseVector{Float64, Int64}, SparseArrays.SparseVector{Float64, Int64}, SparseArrays.SparseVector{Float64, Int64}, SparseArrays.SparseVector{Float64, Int64}, SparseArrays.SparseVector{Float64, Int64}, SparseArrays.SparseVector{Float64, Int64}, SparseArrays.SparseVector{Float64, Int64}, SparseArrays.SparseVector{Float64, Int64}, SparseArrays.SparseVector{Float64, Int64}, SparseArrays.SparseVector{Float64, Int64}, SparseArrays.SparseVector{Float64, Int64}, SparseArrays.SparseVector{Float64, Int64}, SparseArrays.SparseVector{Float64, Int64}, SparseArrays.SparseVector{Float64, Int64}, SparseArrays.SparseVector{Float64, Int64}, SparseArrays.SparseVector{Float64, Int64}, SparseArrays.SparseVector{Float64, Int64}, SparseArrays.SparseVector{Float64, Int64}, SparseArrays.SparseVector{Float64, Int64}, SparseArrays.SparseVector{Float64, Int64}, SparseArrays.SparseVector{Float64, Int64}, SparseArrays.SparseVector{Float64, Int64}, SparseArrays.SparseVector{Float64, Int64}, SparseArrays.SparseVector{Float64, Int64}, SparseArrays.SparseVector{Float64, Int64}, SparseArrays.SparseVector{Float64, Int64}, SparseArrays.SparseVector{Float64, Int64}, SparseArrays.SparseVector{Float64, Int64}, SparseArrays.SparseVector{Float64, Int64}, SparseArrays.SparseVector{Float64, Int64}, SparseArrays.SparseVector{Float64, Int64}, SparseArrays.SparseVector{Float64, Int64}, SparseArrays.SparseVector{Float64, Int64}, SparseArrays.SparseVector{Float64, Int64}, SparseArrays.SparseVector{Float64, Int64}, SparseArrays.SparseVector{Float64, Int64}, SparseArrays.SparseVector{Float64, Int64}, SparseArrays.SparseVector{Float64, Int64}, SparseArrays.SparseVector{Float64, Int64}, SparseArrays.SparseVector{Float64, Int64}, SparseArrays.SparseVector{Float64, Int64}, SparseArrays.SparseVector{Float64, Int64}, SparseArrays.SparseVector{Float64, Int64}, SparseArrays.SparseVector{Float64, Int64}, SparseArrays.SparseVector{Float64, Int64}, SparseArrays.SparseVector{Float64, Int64}, SparseArrays.SparseVector{Float64, Int64}, SparseArrays.SparseVector{Float64, Int64}, SparseArrays.SparseVector{Float64, Int64}, SparseArrays.SparseVector{Float64, Int64}, SparseArrays.SparseVector{Float64, Int64}, SparseArrays.SparseVector{Float64, Int64}, SparseArrays.SparseVector{Float64, Int64}, SparseArrays.SparseVector{Float64, Int64}, SparseArrays.SparseVector{Float64, Int64}, SparseArrays.SparseVector{Float64, Int64}, SparseArrays.SparseVector{Float64, Int64}, SparseArrays.SparseVector{Float64, Int64}, SparseArrays.SparseVector{Float64, Int64}, SparseArrays.SparseVector{Float64, Int64}, SparseArrays.SparseVector{Float64, Int64}, SparseArrays.SparseVector{Float64, Int64}, SparseArrays.SparseVector{Float64, Int64}, SparseArrays.SparseVector{Float64, Int64}, SparseArrays.SparseVector{Float64, Int64}, SparseArrays.SparseVector{Float64, Int64}, SparseArrays.SparseVector{Float64, Int64}, SparseArrays.SparseVector{Float64, Int64}, SparseArrays.SparseVector{Float64, Int64}, SparseArrays.SparseVector{Float64, Int64}, SparseArrays.SparseVector{Float64, Int64}, SparseArrays.SparseVector{Float64, Int64}, SparseArrays.SparseVector{Float64, Int64}, SparseArrays.SparseVector{Float64, Int64}, SparseArrays.SparseVector{Float64, Int64}, SparseArrays.SparseVector{Float64, Int64}, SparseArrays.SparseVector{Float64, Int64}, SparseArrays.SparseVector{Float64, Int64}, SparseArrays.SparseVector{Float64, Int64}, SparseArrays.SparseVector{Float64, Int64}, SparseArrays.SparseVector{Float64, Int64}, SparseArrays.SparseVector{Float64, Int64}, SparseArrays.SparseVector{Float64, Int64}, SparseArrays.SparseVector{Float64, Int64}, SparseArrays.SparseVector{Float64, Int64}, SparseArrays.SparseVector{Float64, Int64}, SparseArrays.SparseVector{Float64, Int64}, SparseArrays.SparseVector{Float64, Int64}, SparseArrays.SparseVector{Float64, Int64}, SparseArrays.SparseVector{Float64, Int64}, SparseArrays.SparseVector{Float64, Int64}, SparseArrays.SparseVector{Float64, Int64}, SparseArrays.SparseVector{Float64, Int64}, SparseArrays.SparseVector{Float64, Int64}, SparseArrays.SparseVector{Float64, Int64}, SparseArrays.SparseVector{Float64, Int64}, SparseArrays.SparseVector{Float64, Int64}, SparseArrays.SparseVector{Float64, Int64}, SparseArrays.SparseVector{Float64, Int64}, SparseArrays.SparseVector{Float64, Int64}, SparseArrays.SparseVector{Float64, Int64}, SparseArrays.SparseVector{Float64, Int64}, SparseArrays.SparseVector{Float64, Int64}, SparseArrays.SparseVector{Float64, Int64}, SparseArrays.SparseVector{Float64, Int64}, SparseArrays.SparseVector{Float64, Int64}, SparseArrays.SparseVector{Float64, Int64}, SparseArrays.SparseVector{Float64, Int64}, SparseArrays.SparseVector{Float64, Int64}, SparseArrays.SparseVector{Float64, Int64}, SparseArrays.SparseVector{Float64, Int64}, SparseArrays.SparseVector{Float64, Int64}, SparseArrays.SparseVector{Float64, Int64}, SparseArrays.SparseVector{Float64, Int64}, SparseArrays.SparseVector{Float64, Int64}, SparseArrays.SparseVector{Float64, Int64}, SparseArrays.SparseVector{Float64, Int64}, SparseArrays.SparseVector{Float64, Int64}, SparseArrays.SparseVector{Float64, Int64}, SparseArrays.SparseVector{Float64, Int64}, SparseArrays.SparseVector{Float64, Int64}, SparseArrays.SparseVector{Float64, Int64}, SparseArrays.SparseVector{Float64, Int64}, SparseArrays.SparseVector{Float64, Int64}, SparseArrays.SparseVector{Float64, Int64}, SparseArrays.SparseVector{Float64, Int64}, SparseArrays.SparseVector{Float64, Int64}, SparseArrays.SparseVector{Float64, Int64}, SparseArrays.SparseVector{Float64, Int64}, SparseArrays.SparseVector{Float64, Int64}, SparseArrays.SparseVector{Float64, Int64}, SparseArrays.SparseVector{Float64, Int64}, SparseArrays.SparseVector{Float64, Int64}, SparseArrays.SparseVector{Float64, Int64}, SparseArrays.SparseVector{Float64, Int64}, SparseArrays.SparseVector{Float64, Int64}, SparseArrays.SparseVector{Float64, Int64}, SparseArrays.SparseVector{Float64, Int64}, SparseArrays.SparseVector{Float64, Int64}, SparseArrays.SparseVector{Float64, Int64}, SparseArrays.SparseVector{Float64, Int64}, SparseArrays.SparseVector{Float64, Int64}, SparseArrays.SparseVector{Float64, Int64}, SparseArrays.SparseVector{Float64, Int64}, SparseArrays.SparseVector{Float64, Int64}, SparseArrays.SparseVector{Float64, Int64}, SparseArrays.SparseVector{Float64, Int64}, SparseArrays.SparseVector{Float64, Int64}, SparseArrays.SparseVector{Float64, Int64}, SparseArrays.SparseVector{Float64, Int64}, SparseArrays.SparseVector{Float64, Int64}, SparseArrays.SparseVector{Float64, Int64}, SparseArrays.SparseVector{Float64, Int64}, SparseArrays.SparseVector{Float64, Int64}, SparseArrays.SparseVector{Float64, Int64}, SparseArrays.SparseVector{Float64, Int64}, SparseArrays.SparseVector{Float64, Int64}, SparseArrays.SparseVector{Float64, Int64}, SparseArrays.SparseVector{Float64, Int64}, SparseArrays.SparseVector{Float64, Int64}, SparseArrays.SparseVector{Float64, Int64}, SparseArrays.SparseVector{Float64, Int64}, SparseArrays.SparseVector{Float64, Int64}, SparseArrays.SparseVector{Float64, Int64}, SparseArrays.SparseVector{Float64, Int64}, SparseArrays.SparseVector{Float64, Int64}, SparseArrays.SparseVector{Float64, Int64}, SparseArrays.SparseVector{Float64, Int64}, SparseArrays.SparseVector{Float64, Int64}, SparseArrays.SparseVector{Float64, Int64}, SparseArrays.SparseVector{Float64, Int64}, SparseArrays.SparseVector{Float64, Int64}, SparseArrays.SparseVector{Float64, Int64}, SparseArrays.SparseVector{Float64, Int64}, SparseArrays.SparseVector{Float64, Int64}, SparseArrays.SparseVector{Float64, Int64}, SparseArrays.SparseVector{Float64, Int64}, SparseArrays.SparseVector{Float64, Int64}, SparseArrays.SparseVector{Float64, Int64}, SparseArrays.SparseVector{Float64, Int64}, SparseArrays.SparseVector{Float64, Int64}, SparseArrays.SparseVector{Float64, Int64}, SparseArrays.SparseVector{Float64, Int64}, SparseArrays.SparseVector{Float64, Int64}, SparseArrays.SparseVector{Float64, Int64}, SparseArrays.SparseVector{Float64, Int64}, SparseArrays.SparseVector{Float64, Int64}, SparseArrays.SparseVector{Float64, Int64}, SparseArrays.SparseVector{Float64, Int64}, SparseArrays.SparseVector{Float64, Int64}, SparseArrays.SparseVector{Float64, Int64}, SparseArrays.SparseVector{Float64, Int64}, SparseArrays.SparseVector{Float64, Int64}, SparseArrays.SparseVector{Float64, Int64}, SparseArrays.SparseVector{Float64, Int64}, SparseArrays.SparseVector{Float64, Int64}, SparseArrays.SparseVector{Float64, Int64}, SparseArrays.SparseVector{Float64, Int64}, SparseArrays.SparseVector{Float64, Int64}, SparseArrays.SparseVector{Float64, Int64}, SparseArrays.SparseVector{Float64, Int64}, SparseArrays.SparseVector{Float64, Int64}, SparseArrays.SparseVector{Float64, Int64}, SparseArrays.SparseVector{Float64, Int64}, SparseArrays.SparseVector{Float64, Int64}, SparseArrays.SparseVector{Float64, Int64}, SparseArrays.SparseVector{Float64, Int64}, SparseArrays.SparseVector{Float64, Int64}, SparseArrays.SparseVector{Float64, Int64}, SparseArrays.SparseVector{Float64, Int64}, SparseArrays.SparseVector{Float64, Int64}, SparseArrays.SparseVector{Float64, Int64}, SparseArrays.SparseVector{Float64, Int64}, SparseArrays.SparseVector{Float64, Int64}, SparseArrays.SparseVector{Float64, Int64}, SparseArrays.SparseVector{Float64, Int64}, SparseArrays.SparseVector{Float64, Int64}, SparseArrays.SparseVector{Float64, Int64}, SparseArrays.SparseVector{Float64, Int64}, SparseArrays.SparseVector{Float64, Int64}, SparseArrays.SparseVector{Float64, Int64}, SparseArrays.SparseVector{Float64, Int64}, SparseArrays.SparseVector{Float64, Int64}, SparseArrays.SparseVector{Float64, Int64}, SparseArrays.SparseVector{Float64, Int64}, SparseArrays.SparseVector{Float64, Int64}, SparseArrays.SparseVector{Float64, Int64}, SparseArrays.SparseVector{Float64, Int64}, SparseArrays.SparseVector{Float64, Int64}, SparseArrays.SparseVector{Float64, Int64}, SparseArrays.SparseVector{Float64, Int64}, SparseArrays.SparseVector{Float64, Int64}, SparseArrays.SparseVector{Float64, Int64}, SparseArrays.SparseVector{Float64, Int64}, SparseArrays.SparseVector{Float64, Int64}, SparseArrays.SparseVector{Float64, Int64}, SparseArrays.SparseVector{Float64, Int64}, SparseArrays.SparseVector{Float64, Int64}, SparseArrays.SparseVector{Float64, Int64}, SparseArrays.SparseVector{Float64, Int64}, SparseArrays.SparseVector{Float64, Int64}, SparseArrays.SparseVector{Float64, Int64}, SparseArrays.SparseVector{Float64, Int64}, SparseArrays.SparseVector{Float64, Int64}, SparseArrays.SparseVector{Float64, Int64}, SparseArrays.SparseVector{Float64, Int64}, SparseArrays.SparseVector{Float64, Int64}, SparseArrays.SparseVector{Float64, Int64}, SparseArrays.SparseVector{Float64, Int64}, SparseArrays.SparseVector{Float64, Int64}, SparseArrays.SparseVector{Float64, Int64}, SparseArrays.SparseVector{Float64, Int64}, SparseArrays.SparseVector{Float64, Int64}, SparseArrays.SparseVector{Float64, Int64}, SparseArrays.SparseVector{Float64, Int64}, SparseArrays.SparseVector{Float64, Int64}, SparseArrays.SparseVector{Float64, Int64}, SparseArrays.SparseVector{Float64, Int64}, SparseArrays.SparseVector{Float64, Int64}, SparseArrays.SparseVector{Float64, Int64}, SparseArrays.SparseVector{Float64, Int64}, SparseArrays.SparseVector{Float64, Int64}, SparseArrays.SparseVector{Float64, Int64}, SparseArrays.SparseVector{Float64, Int64}, SparseArrays.SparseVector{Float64, Int64}, SparseArrays.SparseVector{Float64, Int64}, SparseArrays.SparseVector{Float64, Int64}, SparseArrays.SparseVector{Float64, Int64}, SparseArrays.SparseVector{Float64, Int64}, SparseArrays.SparseVector{Float64, Int64}, SparseArrays.SparseVector{Float64, Int64}, SparseArrays.SparseVector{Float64, Int64}, SparseArrays.SparseVector{Float64, Int64}, SparseArrays.SparseVector{Float64, Int64}, SparseArrays.SparseVector{Float64, Int64}, SparseArrays.SparseVector{Float64, Int64}, SparseArrays.SparseVector{Float64, Int64}, SparseArrays.SparseVector{Float64, Int64}, SparseArrays.SparseVector{Float64, Int64}, SparseArrays.SparseVector{Float64, Int64}, SparseArrays.SparseVector{Float64, Int64}, SparseArrays.SparseVector{Float64, Int64}, SparseArrays.SparseVector{Float64, Int64}, SparseArrays.SparseVector{Float64, Int64}, SparseArrays.SparseVector{Float64, Int64}, SparseArrays.SparseVector{Float64, Int64}, SparseArrays.SparseVector{Float64, Int64}, SparseArrays.SparseVector{Float64, Int64}, SparseArrays.SparseVector{Float64, Int64}, SparseArrays.SparseVector{Float64, Int64}, SparseArrays.SparseVector{Float64, Int64}, SparseArrays.SparseVector{Float64, Int64}, SparseArrays.SparseVector{Float64, Int64}, SparseArrays.SparseVector{Float64, Int64}, SparseArrays.SparseVector{Float64, Int64}, SparseArrays.SparseVector{Float64, Int64}, SparseArrays.SparseVector{Float64, Int64}, SparseArrays.SparseVector{Float64, Int64}, SparseArrays.SparseVector{Float64, Int64}, SparseArrays.SparseVector{Float64, Int64}, SparseArrays.SparseVector{Float64, Int64}, SparseArrays.SparseVector{Float64, Int64}, SparseArrays.SparseVector{Float64, Int64}, SparseArrays.SparseVector{Float64, Int64}, SparseArrays.SparseVector{Float64, Int64}, SparseArrays.SparseVector{Float64, Int64}, SparseArrays.SparseVector{Float64, Int64}, SparseArrays.SparseVector{Float64, Int64}, SparseArrays.SparseVector{Float64, Int64}, SparseArrays.SparseVector{Float64, Int64}, SparseArrays.SparseVector{Float64, Int64}, SparseArrays.SparseVector{Float64, Int64}, SparseArrays.SparseVector{Float64, Int64}, SparseArrays.SparseVector{Float64, Int64}, SparseArrays.SparseVector{Float64, Int64}, SparseArrays.SparseVector{Float64, Int64}, SparseArrays.SparseVector{Float64, Int64}, SparseArrays.SparseVector{Float64, Int64}, SparseArrays.SparseVector{Float64, Int64}, SparseArrays.SparseVector{Float64, Int64}, SparseArrays.SparseVector{Float64, Int64}, SparseArrays.SparseVector{Float64, Int64}, SparseArrays.SparseVector{Float64, Int64}, SparseArrays.SparseVector{Float64, Int64}, SparseArrays.SparseVector{Float64, Int64}, SparseArrays.SparseVector{Float64, Int64}, SparseArrays.SparseVector{Float64, Int64}, SparseArrays.SparseVector{Float64, Int64}, SparseArrays.SparseVector{Float64, Int64}, SparseArrays.SparseVector{Float64, Int64}, SparseArrays.SparseVector{Float64, Int64}, SparseArrays.SparseVector{Float64, Int64}, SparseArrays.SparseVector{Float64, Int64}, SparseArrays.SparseVector{Float64, Int64}, SparseArrays.SparseVector{Float64, Int64}, SparseArrays.SparseVector{Float64, Int64}, SparseArrays.SparseVector{Float64, Int64}, SparseArrays.SparseVector{Float64, Int64}, SparseArrays.SparseVector{Float64, Int64}, SparseArrays.SparseVector{Float64, Int64}, SparseArrays.SparseVector{Float64, Int64}, SparseArrays.SparseVector{Float64, Int64}, SparseArrays.SparseVector{Float64, Int64}, SparseArrays.SparseVector{Float64, Int64}, SparseArrays.SparseVector{Float64, Int64}, SparseArrays.SparseVector{Float64, Int64}, SparseArrays.SparseVector{Float64, Int64}, SparseArrays.SparseVector{Float64, Int64}, SparseArrays.SparseVector{Float64, Int64}, SparseArrays.SparseVector{Float64, Int64}, SparseArrays.SparseVector{Float64, Int64}, SparseArrays.SparseVector{Float64, Int64}, SparseArrays.SparseVector{Float64, Int64}, SparseArrays.SparseVector{Float64, Int64}, SparseArrays.SparseVector{Float64, Int64}, SparseArrays.SparseVector{Float64, Int64}, SparseArrays.SparseVector{Float64, Int64}, SparseArrays.SparseVector{Float64, Int64}, SparseArrays.SparseVector{Float64, Int64}, SparseArrays.SparseVector{Float64, Int64}, SparseArrays.SparseVector{Float64, Int64}, SparseArrays.SparseVector{Float64, Int64}, SparseArrays.SparseVector{Float64, Int64}, SparseArrays.SparseVector{Float64, Int64}, SparseArrays.SparseVector{Float64, Int64}, SparseArrays.SparseVector{Float64, Int64}, SparseArrays.SparseVector{Float64, Int64}, SparseArrays.SparseVector{Float64, Int64}, SparseArrays.SparseVector{Float64, Int64}, SparseArrays.SparseVector{Float64, Int64}, SparseArrays.SparseVector{Float64, Int64}, SparseArrays.SparseVector{Float64, Int64}, SparseArrays.SparseVector{Float64, Int64}, SparseArrays.SparseVector{Float64, Int64}, SparseArrays.SparseVector{Float64, Int64}, SparseArrays.SparseVector{Float64, Int64}, SparseArrays.SparseVector{Float64, Int64}, SparseArrays.SparseVector{Float64, Int64}, SparseArrays.SparseVector{Float64, Int64}, SparseArrays.SparseVector{Float64, Int64}, SparseArrays.SparseVector{Float64, Int64}, SparseArrays.SparseVector{Float64, Int64}, SparseArrays.SparseVector{Float64, Int64}, SparseArrays.SparseVector{Float64, Int64}, SparseArrays.SparseVector{Float64, Int64}, SparseArrays.SparseVector{Float64, Int64}, SparseArrays.SparseVector{Float64, Int64}, SparseArrays.SparseVector{Float64, Int64}, SparseArrays.SparseVector{Float64, Int64}, SparseArrays.SparseVector{Float64, Int64}, SparseArrays.SparseVector{Float64, Int64}, SparseArrays.SparseVector{Float64, Int64}, SparseArrays.SparseVector{Float64, Int64}, SparseArrays.SparseVector{Float64, Int64}, SparseArrays.SparseVector{Float64, Int64}, SparseArrays.SparseVector{Float64, Int64}, SparseArrays.SparseVector{Float64, Int64}, SparseArrays.SparseVector{Float64, Int64}, SparseArrays.SparseVector{Float64, Int64}, SparseArrays.SparseVector{Float64, Int64}, SparseArrays.SparseVector{Float64, Int64}, SparseArrays.SparseVector{Float64, Int64}, SparseArrays.SparseVector{Float64, Int64}, SparseArrays.SparseVector{Float64, Int64}, SparseArrays.SparseVector{Float64, Int64}, SparseArrays.SparseVector{Float64, Int64}, SparseArrays.SparseVector{Float64, Int64}, SparseArrays.SparseVector{Float64, Int64}, SparseArrays.SparseVector{Float64, Int64}, SparseArrays.SparseVector{Float64, Int64}, SparseArrays.SparseVector{Float64, Int64}, SparseArrays.SparseVector{Float64, Int64}, SparseArrays.SparseVector{Float64, Int64}, SparseArrays.SparseVector{Float64, Int64}, SparseArrays.SparseVector{Float64, Int64}, SparseArrays.SparseVector{Float64, Int64}, SparseArrays.SparseVector{Float64, Int64}, SparseArrays.SparseVector{Float64, Int64}, SparseArrays.SparseVector{Float64, Int64}, SparseArrays.SparseVector{Float64, Int64}, SparseArrays.SparseVector{Float64, Int64}, SparseArrays.SparseVector{Float64, Int64}, SparseArrays.SparseVector{Float64, Int64}, SparseArrays.SparseVector{Float64, Int64}, SparseArrays.SparseVector{Float64, Int64}, SparseArrays.SparseVector{Float64, Int64}, SparseArrays.SparseVector{Float64, Int64}, SparseArrays.SparseVector{Float64, Int64}, SparseArrays.SparseVector{Float64, Int64}, SparseArrays.SparseVector{Float64, Int64}, SparseArrays.SparseVector{Float64, Int64}, SparseArrays.SparseVector{Float64, Int64}, SparseArrays.SparseVector{Float64, Int64}, SparseArrays.SparseVector{Float64, Int64}, SparseArrays.SparseVector{Float64, Int64}, SparseArrays.SparseVector{Float64, Int64}, SparseArrays.SparseVector{Float64, Int64}, SparseArrays.SparseVector{Float64, Int64}, SparseArrays.SparseVector{Float64, Int64}, SparseArrays.SparseVector{Float64, Int64}, SparseArrays.SparseVector{Float64, Int64}, SparseArrays.SparseVector{Float64, Int64}, SparseArrays.SparseVector{Float64, Int64}, SparseArrays.SparseVector{Float64, Int64}, SparseArrays.SparseVector{Float64, Int64}, SparseArrays.SparseVector{Float64, Int64}, SparseArrays.SparseVector{Float64, Int64}, SparseArrays.SparseVector{Float64, Int64}, SparseArrays.SparseVector{Float64, Int64}, SparseArrays.SparseVector{Float64, Int64}, SparseArrays.SparseVector{Float64, Int64}, SparseArrays.SparseVector{Float64, Int64}, SparseArrays.SparseVector{Float64, Int64}, SparseArrays.SparseVector{Float64, Int64}, SparseArrays.SparseVector{Float64, Int64}, SparseArrays.SparseVector{Float64, Int64}, SparseArrays.SparseVector{Float64, Int64}, SparseArrays.SparseVector{Float64, Int64}, SparseArrays.SparseVector{Float64, Int64}, SparseArrays.SparseVector{Float64, Int64}, SparseArrays.SparseVector{Float64, Int64}, SparseArrays.SparseVector{Float64, Int64}, SparseArrays.SparseVector{Float64, Int64}, SparseArrays.SparseVector{Float64, Int64}, SparseArrays.SparseVector{Float64, Int64}, SparseArrays.SparseVector{Float64, Int64}, SparseArrays.SparseVector{Float64, Int64}, SparseArrays.SparseVector{Float64, Int64}, SparseArrays.SparseVector{Float64, Int64}, SparseArrays.SparseVector{Float64, Int64}, SparseArrays.SparseVector{Float64, Int64}, SparseArrays.SparseVector{Float64, Int64}, SparseArrays.SparseVector{Float64, Int64}, SparseArrays.SparseVector{Float64, Int64}, SparseArrays.SparseVector{Float64, Int64}, SparseArrays.SparseVector{Float64, Int64}, SparseArrays.SparseVector{Float64, Int64}, SparseArrays.SparseVector{Float64, Int64}, SparseArrays.SparseVector{Float64, Int64}, SparseArrays.SparseVector{Float64, Int64}, SparseArrays.SparseVector{Float64, Int64}, SparseArrays.SparseVector{Float64, Int64}, SparseArrays.SparseVector{Float64, Int64}, SparseArrays.SparseVector{Float64, Int64}, SparseArrays.SparseVector{Float64, Int64}, SparseArrays.SparseVector{Float64, Int64}, SparseArrays.SparseVector{Float64, Int64}, SparseArrays.SparseVector{Float64, Int64}, SparseArrays.SparseVector{Float64, Int64}, SparseArrays.SparseVector{Float64, Int64}, SparseArrays.SparseVector{Float64, Int64}, SparseArrays.SparseVector{Float64, Int64}, SparseArrays.SparseVector{Float64, Int64}, SparseArrays.SparseVector{Float64, Int64}, SparseArrays.SparseVector{Float64, Int64}, SparseArrays.SparseVector{Float64, Int64}, SparseArrays.SparseVector{Float64, Int64}, SparseArrays.SparseVector{Float64, Int64}, SparseArrays.SparseVector{Float64, Int64}, SparseArrays.SparseVector{Float64, Int64}, SparseArrays.SparseVector{Float64, Int64}, SparseArrays.SparseVector{Float64, Int64}, SparseArrays.SparseVector{Float64, Int64}, SparseArrays.SparseVector{Float64, Int64}, SparseArrays.SparseVector{Float64, Int64}, SparseArrays.SparseVector{Float64, Int64}, SparseArrays.SparseVector{Float64, Int64}, SparseArrays.SparseVector{Float64, Int64}, SparseArrays.SparseVector{Float64, Int64}, SparseArrays.SparseVector{Float64, Int64}, SparseArrays.SparseVector{Float64, Int64}, SparseArrays.SparseVector{Float64, Int64}, SparseArrays.SparseVector{Float64, Int64}, SparseArrays.SparseVector{Float64, Int64}, SparseArrays.SparseVector{Float64, Int64}, SparseArrays.SparseVector{Float64, Int64}, SparseArrays.SparseVector{Float64, Int64}, SparseArrays.SparseVector{Float64, Int64}, SparseArrays.SparseVector{Float64, Int64}, SparseArrays.SparseVector{Float64, Int64}, SparseArrays.SparseVector{Float64, Int64}, SparseArrays.SparseVector{Float64, Int64}, SparseArrays.SparseVector{Float64, Int64}, SparseArrays.SparseVector{Float64, Int64}, SparseArrays.SparseVector{Float64, Int64}, SparseArrays.SparseVector{Float64, Int64}, SparseArrays.SparseVector{Float64, Int64}, SparseArrays.SparseVector{Float64, Int64}, SparseArrays.SparseVector{Float64, Int64}, SparseArrays.SparseVector{Float64, Int64}, SparseArrays.SparseVector{Float64, Int64}, SparseArrays.SparseVector{Float64, Int64}, SparseArrays.SparseVector{Float64, Int64}, SparseArrays.SparseVector{Float64, Int64}, SparseArrays.SparseVector{Float64, Int64}, SparseArrays.SparseVector{Float64, Int64}, SparseArrays.SparseVector{Float64, Int64}, SparseArrays.SparseVector{Float64, Int64}, SparseArrays.SparseVector{Float64, Int64}, SparseArrays.SparseVector{Float64, Int64}, SparseArrays.SparseVector{Float64, Int64}, SparseArrays.SparseVector{Float64, Int64}, SparseArrays.SparseVector{Float64, Int64}, SparseArrays.SparseVector{Float64, Int64}, SparseArrays.SparseVector{Float64, Int64}, SparseArrays.SparseVector{Float64, Int64}, SparseArrays.SparseVector{Float64, Int64}, SparseArrays.SparseVector{Float64, Int64}, SparseArrays.SparseVector{Float64, Int64}, SparseArrays.SparseVector{Float64, Int64}, SparseArrays.SparseVector{Float64, Int64}, SparseArrays.SparseVector{Float64, Int64}, SparseArrays.SparseVector{Float64, Int64}, SparseArrays.SparseVector{Float64, Int64}, SparseArrays.SparseVector{Float64, Int64}, SparseArrays.SparseVector{Float64, Int64}, SparseArrays.SparseVector{Float64, Int64}, SparseArrays.SparseVector{Float64, Int64}, SparseArrays.SparseVector{Float64, Int64}, SparseArrays.SparseVector{Float64, Int64}, SparseArrays.SparseVector{Float64, Int64}, SparseArrays.SparseVector{Float64, Int64}, SparseArrays.SparseVector{Float64, Int64}, SparseArrays.SparseVector{Float64, Int64}, SparseArrays.SparseVector{Float64, Int64}, SparseArrays.SparseVector{Float64, Int64}, SparseArrays.SparseVector{Float64, Int64}, SparseArrays.SparseVector{Float64, Int64}, SparseArrays.SparseVector{Float64, Int64}, SparseArrays.SparseVector{Float64, Int64}, SparseArrays.SparseVector{Float64, Int64}, SparseArrays.SparseVector{Float64, Int64}, SparseArrays.SparseVector{Float64, Int64}, SparseArrays.SparseVector{Float64, Int64}, SparseArrays.SparseVector{Float64, Int64}, SparseArrays.SparseVector{Float64, Int64}, SparseArrays.SparseVector{Float64, Int64}, SparseArrays.SparseVector{Float64, Int64}, SparseArrays.SparseVector{Float64, Int64}, SparseArrays.SparseVector{Float64, Int64}, SparseArrays.SparseVector{Float64, Int64}, SparseArrays.SparseVector{Float64, Int64}, SparseArrays.SparseVector{Float64, Int64}, SparseArrays.SparseVector{Float64, Int64}, SparseArrays.SparseVector{Float64, Int64}, SparseArrays.SparseVector{Float64, Int64}, SparseArrays.SparseVector{Float64, Int64}, SparseArrays.SparseVector{Float64, Int64}, SparseArrays.SparseVector{Float64, Int64}, SparseArrays.SparseVector{Float64, Int64}, SparseArrays.SparseVector{Float64, Int64}, SparseArrays.SparseVector{Float64, Int64}, SparseArrays.SparseVector{Float64, Int64}, SparseArrays.SparseVector{Float64, Int64}, SparseArrays.SparseVector{Float64, Int64}, SparseArrays.SparseVector{Float64, Int64}, SparseArrays.SparseVector{Float64, Int64}, SparseArrays.SparseVector{Float64, Int64}, SparseArrays.SparseVector{Float64, Int64}, SparseArrays.SparseVector{Float64, Int64}, SparseArrays.SparseVector{Float64, Int64}, SparseArrays.SparseVector{Float64, Int64}, SparseArrays.SparseVector{Float64, Int64}, SparseArrays.SparseVector{Float64, Int64}, SparseArrays.SparseVector{Float64, Int64}, SparseArrays.SparseVector{Float64, Int64}, SparseArrays.SparseVector{Float64, Int64}, SparseArrays.SparseVector{Float64, Int64}, SparseArrays.SparseVector{Float64, Int64}, SparseArrays.SparseVector{Float64, Int64}, SparseArrays.SparseVector{Float64, Int64}, SparseArrays.SparseVector{Float64, Int64}, SparseArrays.SparseVector{Float64, Int64}, SparseArrays.SparseVector{Float64, Int64}, SparseArrays.SparseVector{Float64, Int64}, SparseArrays.SparseVector{Float64, Int64}, SparseArrays.SparseVector{Float64, Int64}, SparseArrays.SparseVector{Float64, Int64}, SparseArrays.SparseVector{Float64, Int64}, SparseArrays.SparseVector{Float64, Int64}, SparseArrays.SparseVector{Float64, Int64}, SparseArrays.SparseVector{Float64, Int64}, SparseArrays.SparseVector{Float64, Int64}, SparseArrays.SparseVector{Float64, Int64}, SparseArrays.SparseVector{Float64, Int64}, SparseArrays.SparseVector{Float64, Int64}, SparseArrays.SparseVector{Float64, Int64}, SparseArrays.SparseVector{Float64, Int64}, SparseArrays.SparseVector{Float64, Int64}, SparseArrays.SparseVector{Float64, Int64}, SparseArrays.SparseVector{Float64, Int64}, SparseArrays.SparseVector{Float64, Int64}, SparseArrays.SparseVector{Float64, Int64}, SparseArrays.SparseVector{Float64, Int64}, SparseArrays.SparseVector{Float64, Int64}, SparseArrays.SparseVector{Float64, Int64}, SparseArrays.SparseVector{Float64, Int64}, SparseArrays.SparseVector{Float64, Int64}, SparseArrays.SparseVector{Float64, Int64}, SparseArrays.SparseVector{Float64, Int64}, SparseArrays.SparseVector{Float64, Int64}, SparseArrays.SparseVector{Float64, Int64}, SparseArrays.SparseVector{Float64, Int64}, SparseArrays.SparseVector{Float64, Int64}, SparseArrays.SparseVector{Float64, Int64}, SparseArrays.SparseVector{Float64, Int64}, SparseArrays.SparseVector{Float64, Int64}, SparseArrays.SparseVector{Float64, Int64}, SparseArrays.SparseVector{Float64, Int64}, SparseArrays.SparseVector{Float64, Int64}, SparseArrays.SparseVector{Float64, Int64}, SparseArrays.SparseVector{Float64, Int64}, SparseArrays.SparseVector{Float64, Int64}, SparseArrays.SparseVector{Float64, Int64}, SparseArrays.SparseVector{Float64, Int64}, SparseArrays.SparseVector{Float64, Int64}, SparseArrays.SparseVector{Float64, Int64}, SparseArrays.SparseVector{Float64, Int64}, SparseArrays.SparseVector{Float64, Int64}, SparseArrays.SparseVector{Float64, Int64}, SparseArrays.SparseVector{Float64, Int64}, SparseArrays.SparseVector{Float64, Int64}, SparseArrays.SparseVector{Float64, Int64}, SparseArrays.SparseVector{Float64, Int64}, SparseArrays.SparseVector{Float64, Int64}, SparseArrays.SparseVector{Float64, Int64}, SparseArrays.SparseVector{Float64, Int64}, SparseArrays.SparseVector{Float64, Int64}, SparseArrays.SparseVector{Float64, Int64}, SparseArrays.SparseVector{Float64, Int64}, SparseArrays.SparseVector{Float64, Int64}, SparseArrays.SparseVector{Float64, Int64}, SparseArrays.SparseVector{Float64, Int64}, SparseArrays.SparseVector{Float64, Int64}, SparseArrays.SparseVector{Float64, Int64}, SparseArrays.SparseVector{Float64, Int64}, SparseArrays.SparseVector{Float64, Int64}, SparseArrays.SparseVector{Float64, Int64}, SparseArrays.SparseVector{Float64, Int64}, SparseArrays.SparseVector{Float64, Int64}, SparseArrays.SparseVector{Float64, Int64}, SparseArrays.SparseVector{Float64, Int64}, SparseArrays.SparseVector{Float64, Int64}, SparseArrays.SparseVector{Float64, Int64}, SparseArrays.SparseVector{Float64, Int64}, SparseArrays.SparseVector{Float64, Int64}, SparseArrays.SparseVector{Float64, Int64}, SparseArrays.SparseVector{Float64, Int64}, SparseArrays.SparseVector{Float64, Int64}, SparseArrays.SparseVector{Float64, Int64}, SparseArrays.SparseVector{Float64, Int64}, SparseArrays.SparseVector{Float64, Int64}, SparseArrays.SparseVector{Float64, Int64}, SparseArrays.SparseVector{Float64, Int64}, SparseArrays.SparseVector{Float64, Int64}, SparseArrays.SparseVector{Float64, Int64}, SparseArrays.SparseVector{Float64, Int64}, SparseArrays.SparseVector{Float64, Int64}, SparseArrays.SparseVector{Float64, Int64}, SparseArrays.SparseVector{Float64, Int64}, SparseArrays.SparseVector{Float64, Int64}, SparseArrays.SparseVector{Float64, Int64}, SparseArrays.SparseVector{Float64, Int64}, SparseArrays.SparseVector{Float64, Int64}, SparseArrays.SparseVector{Float64, Int64}, SparseArrays.SparseVector{Float64, Int64}, SparseArrays.SparseVector{Float64, Int64}, SparseArrays.SparseVector{Float64, Int64}, SparseArrays.SparseVector{Float64, Int64}, SparseArrays.SparseVector{Float64, Int64}, SparseArrays.SparseVector{Float64, Int64}, SparseArrays.SparseVector{Float64, Int64}, SparseArrays.SparseVector{Float64, Int64}, SparseArrays.SparseVector{Float64, Int64}, SparseArrays.SparseVector{Float64, Int64}, SparseArrays.SparseVector{Float64, Int64}, SparseArrays.SparseVector{Float64, Int64}, SparseArrays.SparseVector{Float64, Int64}, SparseArrays.SparseVector{Float64, Int64}, SparseArrays.SparseVector{Float64, Int64}, SparseArrays.SparseVector{Float64, Int64}, SparseArrays.SparseVector{Float64, Int64}, SparseArrays.SparseVector{Float64, Int64}, SparseArrays.SparseVector{Float64, Int64}, SparseArrays.SparseVector{Float64, Int64}, SparseArrays.SparseVector{Float64, Int64}, SparseArrays.SparseVector{Float64, Int64}, SparseArrays.SparseVector{Float64, Int64}, SparseArrays.SparseVector{Float64, Int64}, SparseArrays.SparseVector{Float64, Int64}, SparseArrays.SparseVector{Float64, Int64}, SparseArrays.SparseVector{Float64, Int64}, SparseArrays.SparseVector{Float64, Int64}, SparseArrays.SparseVector{Float64, Int64}, SparseArrays.SparseVector{Float64, Int64}, SparseArrays.SparseVector{Float64, Int64}, SparseArrays.SparseVector{Float64, Int64}, SparseArrays.SparseVector{Float64, Int64}, SparseArrays.SparseVector{Float64, Int64}, SparseArrays.SparseVector{Float64, Int64}, SparseArrays.SparseVector{Float64, Int64}, SparseArrays.SparseVector{Float64, Int64}, SparseArrays.SparseVector{Float64, Int64}, SparseArrays.SparseVector{Float64, Int64}, SparseArrays.SparseVector{Float64, Int64}, SparseArrays.SparseVector{Float64, Int64}, SparseArrays.SparseVector{Float64, Int64}, SparseArrays.SparseVector{Float64, Int64}, SparseArrays.SparseVector{Float64, Int64}, SparseArrays.SparseVector{Float64, Int64}, SparseArrays.SparseVector{Float64, Int64}, SparseArrays.SparseVector{Float64, Int64}, SparseArrays.SparseVector{Float64, Int64}, SparseArrays.SparseVector{Float64, Int64}, SparseArrays.SparseVector{Float64, Int64}, SparseArrays.SparseVector{Float64, Int64}, SparseArrays.SparseVector{Float64, Int64}, SparseArrays.SparseVector{Float64, Int64}, SparseArrays.SparseVector{Float64, Int64}, SparseArrays.SparseVector{Float64, Int64}, SparseArrays.SparseVector{Float64, Int64}, SparseArrays.SparseVector{Float64, Int64}, SparseArrays.SparseVector{Float64, Int64}, SparseArrays.SparseVector{Float64, Int64}, SparseArrays.SparseVector{Float64, Int64}, SparseArrays.SparseVector{Float64, Int64}, SparseArrays.SparseVector{Float64, Int64}, SparseArrays.SparseVector{Float64, Int64}, SparseArrays.SparseVector{Float64, Int64}, SparseArrays.SparseVector{Float64, Int64}, SparseArrays.SparseVector{Float64, Int64}, SparseArrays.SparseVector{Float64, Int64}, SparseArrays.SparseVector{Float64, Int64}, SparseArrays.SparseVector{Float64, Int64}, SparseArrays.SparseVector{Float64, Int64}, SparseArrays.SparseVector{Float64, Int64}, SparseArrays.SparseVector{Float64, Int64}, SparseArrays.SparseVector{Float64, Int64}, SparseArrays.SparseVector{Float64, Int64}, SparseArrays.SparseVector{Float64, Int64}, SparseArrays.SparseVector{Float64, Int64}, SparseArrays.SparseVector{Float64, Int64}, SparseArrays.SparseVector{Float64, Int64}, SparseArrays.SparseVector{Float64, Int64}, SparseArrays.SparseVector{Float64, Int64}, SparseArrays.SparseVector{Float64, Int64}, SparseArrays.SparseVector{Float64, Int64}, SparseArrays.SparseVector{Float64, Int64}, SparseArrays.SparseVector{Float64, Int64}, SparseArrays.SparseVector{Float64, Int64}, SparseArrays.SparseVector{Float64, Int64}, SparseArrays.SparseVector{Float64, Int64}, SparseArrays.SparseVector{Float64, Int64}, SparseArrays.SparseVector{Float64, Int64}, SparseArrays.SparseVector{Float64, Int64}, SparseArrays.SparseVector{Float64, Int64}, SparseArrays.SparseVector{Float64, Int64}, SparseArrays.SparseVector{Float64, Int64}, SparseArrays.SparseVector{Float64, Int64}, SparseArrays.SparseVector{Float64, Int64}, SparseArrays.SparseVector{Float64, Int64}, SparseArrays.SparseVector{Float64, Int64}, SparseArrays.SparseVector{Float64, Int64}, SparseArrays.SparseVector{Float64, Int64}, SparseArrays.SparseVector{Float64, Int64}, SparseArrays.SparseVector{Float64, Int64}, SparseArrays.SparseVector{Float64, Int64}, SparseArrays.SparseVector{Float64, Int64}, SparseArrays.SparseVector{Float64, Int64}, SparseArrays.SparseVector{Float64, Int64}, SparseArrays.SparseVector{Float64, Int64}, SparseArrays.SparseVector{Float64, Int64}, SparseArrays.SparseVector{Float64, Int64}, SparseArrays.SparseVector{Float64, Int64}, SparseArrays.SparseVector{Float64, Int64}, SparseArrays.SparseVector{Float64, Int64}, SparseArrays.SparseVector{Float64, Int64}, SparseArrays.SparseVector{Float64, Int64}, SparseArrays.SparseVector{Float64, Int64}, SparseArrays.SparseVector{, "
     ]
    },
    {
     "data": {
      "text/plain": [
       "scRNAObject in CellScopes.jl\n"
      ]
     },
     "execution_count": 12,
     "metadata": {},
     "output_type": "execute_result"
    },
    {
     "name": "stdout",
     "output_type": "stream",
     "text": [
      "Genes x Cells = 17832 x 3449\n",
      "Available data:\n",
      "- Raw count\n",
      "- Normalized count\n",
      "- Metadata\n",
      "All fields:\n",
      "- rawCount\n",
      "- normCount\n",
      "- scaleCount\n",
      "- metaData\n",
      "- varGene\n",
      "- dimReduction\n",
      "- clustData\n",
      "- undefinedData\n"
     ]
    }
   ],
   "source": [
    "A2780_normalized = cs.normalize_object(A2780; scale_factor = 10000)"
   ]
  },
  {
   "cell_type": "code",
   "execution_count": null,
   "id": "f3bae209",
   "metadata": {},
   "outputs": [],
   "source": []
  },
  {
   "cell_type": "code",
   "execution_count": 13,
   "id": "ab340631",
   "metadata": {},
   "outputs": [
    {
     "data": {
      "text/plain": [
       "scRNAObject in CellScopes.jl\n"
      ]
     },
     "execution_count": 13,
     "metadata": {},
     "output_type": "execute_result"
    },
    {
     "name": "stdout",
     "output_type": "stream",
     "text": [
      "Genes x Cells = 17832 x 3449\n",
      "Available data:\n",
      "- Raw count\n",
      "- Normalized count\n",
      "- Metadata\n",
      "All fields:\n",
      "- rawCount\n",
      "- normCount\n",
      "- scaleCount\n",
      "- metaData\n",
      "- varGene\n",
      "- dimReduction\n",
      "- clustData\n",
      "- undefinedData\n"
     ]
    }
   ],
   "source": [
    "A2780_normalized"
   ]
  },
  {
   "cell_type": "code",
   "execution_count": 14,
   "id": "728975c2",
   "metadata": {},
   "outputs": [
    {
     "data": {
      "text/plain": [
       "CellScopes.NormCountObject\n"
      ]
     },
     "execution_count": 14,
     "metadata": {},
     "output_type": "execute_result"
    },
    {
     "name": "stdout",
     "output_type": "stream",
     "text": [
      "Genes x Cells = 17832 x 3449\n",
      "All fields:\n",
      "- count_mtx\n",
      "- cell_name\n",
      "- gene_name\n",
      "- scale_factor\n",
      "- norm_method\n",
      "- pseudocount\n"
     ]
    }
   ],
   "source": [
    "A2780_normalized.normCount"
   ]
  },
  {
   "cell_type": "code",
   "execution_count": 15,
   "id": "33d5f660",
   "metadata": {},
   "outputs": [
    {
     "data": {
      "text/plain": [
       "scRNAObject in CellScopes.jl\n"
      ]
     },
     "execution_count": 15,
     "metadata": {},
     "output_type": "execute_result"
    },
    {
     "name": "stdout",
     "output_type": "stream",
     "text": [
      "Genes x Cells = 17832 x 3449\n",
      "Available data:\n",
      "- Raw count\n",
      "- Normalized count\n",
      "- Metadata\n",
      "- Variable genes\n",
      "All fields:\n",
      "- rawCount\n",
      "- normCount\n",
      "- scaleCount\n",
      "- metaData\n",
      "- varGene\n",
      "- dimReduction\n",
      "- clustData\n",
      "- undefinedData\n"
     ]
    }
   ],
   "source": [
    "A2780_normalized_featured = cs.find_variable_genes(A2780_normalized)"
   ]
  },
  {
   "cell_type": "code",
   "execution_count": 16,
   "id": "494b461d",
   "metadata": {},
   "outputs": [
    {
     "data": {
      "text/plain": [
       "CellScopes.VariableGeneObject\n"
      ]
     },
     "execution_count": 16,
     "metadata": {},
     "output_type": "execute_result"
    },
    {
     "name": "stdout",
     "output_type": "stream",
     "text": [
      "All fields:\n",
      "- var_gene\n",
      "- vst_data\n"
     ]
    }
   ],
   "source": [
    "A2780_normalized_featured.varGene"
   ]
  },
  {
   "cell_type": "code",
   "execution_count": 17,
   "id": "e713c83f",
   "metadata": {},
   "outputs": [
    {
     "data": {
      "text/html": [
       "<div><div style = \"float: left;\"><span>17832×5 DataFrame</span></div><div style = \"float: right;\"><span style = \"font-style: italic;\">17807 rows omitted</span></div><div style = \"clear: both;\"></div></div><div class = \"data-frame\" style = \"overflow-x: scroll;\"><table class = \"data-frame\" style = \"margin-bottom: 6px;\"><thead><tr class = \"header\"><th class = \"rowNumber\" style = \"font-weight: bold; text-align: right;\">Row</th><th style = \"text-align: left;\">mean</th><th style = \"text-align: left;\">variance</th><th style = \"text-align: left;\">variance_expected</th><th style = \"text-align: left;\">variance_standardized</th><th style = \"text-align: left;\">gene</th></tr><tr class = \"subheader headerLastRow\"><th class = \"rowNumber\" style = \"font-weight: bold; text-align: right;\"></th><th title = \"Float64\" style = \"text-align: left;\">Float64</th><th title = \"Float64\" style = \"text-align: left;\">Float64</th><th title = \"Float64\" style = \"text-align: left;\">Float64</th><th title = \"Float64\" style = \"text-align: left;\">Float64</th><th title = \"String\" style = \"text-align: left;\">String</th></tr></thead><tbody><tr><td class = \"rowNumber\" style = \"font-weight: bold; text-align: right;\">1</td><td style = \"text-align: right;\">0.434619</td><td style = \"text-align: right;\">61.7296</td><td style = \"text-align: right;\">0.742146</td><td style = \"text-align: right;\">83.1771</td><td style = \"text-align: left;\">TMSB4X</td></tr><tr><td class = \"rowNumber\" style = \"font-weight: bold; text-align: right;\">2</td><td style = \"text-align: right;\">0.147289</td><td style = \"text-align: right;\">9.89825</td><td style = \"text-align: right;\">0.186649</td><td style = \"text-align: right;\">53.0313</td><td style = \"text-align: left;\">NTS</td></tr><tr><td class = \"rowNumber\" style = \"font-weight: bold; text-align: right;\">3</td><td style = \"text-align: right;\">0.014497</td><td style = \"text-align: right;\">0.696426</td><td style = \"text-align: right;\">0.0160891</td><td style = \"text-align: right;\">43.2857</td><td style = \"text-align: left;\">ANXA1</td></tr><tr><td class = \"rowNumber\" style = \"font-weight: bold; text-align: right;\">4</td><td style = \"text-align: right;\">0.0661061</td><td style = \"text-align: right;\">3.13832</td><td style = \"text-align: right;\">0.076376</td><td style = \"text-align: right;\">41.0904</td><td style = \"text-align: left;\">CALCB</td></tr><tr><td class = \"rowNumber\" style = \"font-weight: bold; text-align: right;\">5</td><td style = \"text-align: right;\">0.0104378</td><td style = \"text-align: right;\">0.355459</td><td style = \"text-align: right;\">0.0116581</td><td style = \"text-align: right;\">30.4903</td><td style = \"text-align: left;\">H3.Y</td></tr><tr><td class = \"rowNumber\" style = \"font-weight: bold; text-align: right;\">6</td><td style = \"text-align: right;\">0.0840823</td><td style = \"text-align: right;\">2.47553</td><td style = \"text-align: right;\">0.0989558</td><td style = \"text-align: right;\">25.0165</td><td style = \"text-align: left;\">GCG</td></tr><tr><td class = \"rowNumber\" style = \"font-weight: bold; text-align: right;\">7</td><td style = \"text-align: right;\">0.0258046</td><td style = \"text-align: right;\">0.707861</td><td style = \"text-align: right;\">0.028591</td><td style = \"text-align: right;\">24.7581</td><td style = \"text-align: left;\">HIST1H2BH</td></tr><tr><td class = \"rowNumber\" style = \"font-weight: bold; text-align: right;\">8</td><td style = \"text-align: right;\">0.00956799</td><td style = \"text-align: right;\">0.229317</td><td style = \"text-align: right;\">0.0106907</td><td style = \"text-align: right;\">21.4502</td><td style = \"text-align: left;\">OTOR</td></tr><tr><td class = \"rowNumber\" style = \"font-weight: bold; text-align: right;\">9</td><td style = \"text-align: right;\">0.0171064</td><td style = \"text-align: right;\">0.314382</td><td style = \"text-align: right;\">0.018934</td><td style = \"text-align: right;\">16.6041</td><td style = \"text-align: left;\">KRT8</td></tr><tr><td class = \"rowNumber\" style = \"font-weight: bold; text-align: right;\">10</td><td style = \"text-align: right;\">0.0121774</td><td style = \"text-align: right;\">0.215629</td><td style = \"text-align: right;\">0.0135518</td><td style = \"text-align: right;\">15.9115</td><td style = \"text-align: left;\">KRT18</td></tr><tr><td class = \"rowNumber\" style = \"font-weight: bold; text-align: right;\">11</td><td style = \"text-align: right;\">0.028414</td><td style = \"text-align: right;\">0.446408</td><td style = \"text-align: right;\">0.031551</td><td style = \"text-align: right;\">14.1488</td><td style = \"text-align: left;\">GNG11</td></tr><tr><td class = \"rowNumber\" style = \"font-weight: bold; text-align: right;\">12</td><td style = \"text-align: right;\">0.028704</td><td style = \"text-align: right;\">0.409559</td><td style = \"text-align: right;\">0.0318816</td><td style = \"text-align: right;\">12.8462</td><td style = \"text-align: left;\">CALCA</td></tr><tr><td class = \"rowNumber\" style = \"font-weight: bold; text-align: right;\">13</td><td style = \"text-align: right;\">0.00695854</td><td style = \"text-align: right;\">0.0956592</td><td style = \"text-align: right;\">0.00777774</td><td style = \"text-align: right;\">12.2991</td><td style = \"text-align: left;\">LTB</td></tr><tr><td style = \"text-align: right;\">&vellip;</td><td style = \"text-align: right;\">&vellip;</td><td style = \"text-align: right;\">&vellip;</td><td style = \"text-align: right;\">&vellip;</td><td style = \"text-align: right;\">&vellip;</td><td style = \"text-align: right;\">&vellip;</td></tr><tr><td class = \"rowNumber\" style = \"font-weight: bold; text-align: right;\">17821</td><td style = \"text-align: right;\">2.64048</td><td style = \"text-align: right;\">9.52558</td><td style = \"text-align: right;\">13.0503</td><td style = \"text-align: right;\">0.72991</td><td style = \"text-align: left;\">CCT8</td></tr><tr><td class = \"rowNumber\" style = \"font-weight: bold; text-align: right;\">17822</td><td style = \"text-align: right;\">1.65555</td><td style = \"text-align: right;\">4.25081</td><td style = \"text-align: right;\">5.82792</td><td style = \"text-align: right;\">0.729387</td><td style = \"text-align: left;\">SPCS2</td></tr><tr><td class = \"rowNumber\" style = \"font-weight: bold; text-align: right;\">17823</td><td style = \"text-align: right;\">3.52218</td><td style = \"text-align: right;\">15.8377</td><td style = \"text-align: right;\">21.7936</td><td style = \"text-align: right;\">0.726714</td><td style = \"text-align: left;\">HNRNPK</td></tr><tr><td class = \"rowNumber\" style = \"font-weight: bold; text-align: right;\">17824</td><td style = \"text-align: right;\">0.660191</td><td style = \"text-align: right;\">0.981364</td><td style = \"text-align: right;\">1.35274</td><td style = \"text-align: right;\">0.725463</td><td style = \"text-align: left;\">RARS</td></tr><tr><td class = \"rowNumber\" style = \"font-weight: bold; text-align: right;\">17825</td><td style = \"text-align: right;\">2.4352</td><td style = \"text-align: right;\">8.20817</td><td style = \"text-align: right;\">11.3233</td><td style = \"text-align: right;\">0.724889</td><td style = \"text-align: left;\">CCT4</td></tr><tr><td class = \"rowNumber\" style = \"font-weight: bold; text-align: right;\">17826</td><td style = \"text-align: right;\">106.255</td><td style = \"text-align: right;\">16524.6</td><td style = \"text-align: right;\">22931.9</td><td style = \"text-align: right;\">0.720594</td><td style = \"text-align: left;\">MT-CO3</td></tr><tr><td class = \"rowNumber\" style = \"font-weight: bold; text-align: right;\">17827</td><td style = \"text-align: right;\">1.28762</td><td style = \"text-align: right;\">2.76006</td><td style = \"text-align: right;\">3.83628</td><td style = \"text-align: right;\">0.719462</td><td style = \"text-align: left;\">BZW1</td></tr><tr><td class = \"rowNumber\" style = \"font-weight: bold; text-align: right;\">17828</td><td style = \"text-align: right;\">1.44999</td><td style = \"text-align: right;\">3.34618</td><td style = \"text-align: right;\">4.66603</td><td style = \"text-align: right;\">0.717137</td><td style = \"text-align: left;\">UQCRC2</td></tr><tr><td class = \"rowNumber\" style = \"font-weight: bold; text-align: right;\">17829</td><td style = \"text-align: right;\">7.79356</td><td style = \"text-align: right;\">67.8588</td><td style = \"text-align: right;\">95.1762</td><td style = \"text-align: right;\">0.71298</td><td style = \"text-align: left;\">HSPA8</td></tr><tr><td class = \"rowNumber\" style = \"font-weight: bold; text-align: right;\">17830</td><td style = \"text-align: right;\">4.20151</td><td style = \"text-align: right;\">21.1134</td><td style = \"text-align: right;\">30.0022</td><td style = \"text-align: right;\">0.703729</td><td style = \"text-align: left;\">CCT3</td></tr><tr><td class = \"rowNumber\" style = \"font-weight: bold; text-align: right;\">17831</td><td style = \"text-align: right;\">3.57147</td><td style = \"text-align: right;\">15.2142</td><td style = \"text-align: right;\">22.346</td><td style = \"text-align: right;\">0.680848</td><td style = \"text-align: left;\">DDX5</td></tr><tr><td class = \"rowNumber\" style = \"font-weight: bold; text-align: right;\">17832</td><td style = \"text-align: right;\">122.742</td><td style = \"text-align: right;\">20497.2</td><td style = \"text-align: right;\">31948.1</td><td style = \"text-align: right;\">0.641579</td><td style = \"text-align: left;\">MT-CO1</td></tr></tbody></table></div>"
      ],
      "text/latex": [
       "\\begin{tabular}{r|ccccc}\n",
       "\t& mean & variance & variance\\_expected & variance\\_standardized & gene\\\\\n",
       "\t\\hline\n",
       "\t& Float64 & Float64 & Float64 & Float64 & String\\\\\n",
       "\t\\hline\n",
       "\t1 & 0.434619 & 61.7296 & 0.742146 & 83.1771 & TMSB4X \\\\\n",
       "\t2 & 0.147289 & 9.89825 & 0.186649 & 53.0313 & NTS \\\\\n",
       "\t3 & 0.014497 & 0.696426 & 0.0160891 & 43.2857 & ANXA1 \\\\\n",
       "\t4 & 0.0661061 & 3.13832 & 0.076376 & 41.0904 & CALCB \\\\\n",
       "\t5 & 0.0104378 & 0.355459 & 0.0116581 & 30.4903 & H3.Y \\\\\n",
       "\t6 & 0.0840823 & 2.47553 & 0.0989558 & 25.0165 & GCG \\\\\n",
       "\t7 & 0.0258046 & 0.707861 & 0.028591 & 24.7581 & HIST1H2BH \\\\\n",
       "\t8 & 0.00956799 & 0.229317 & 0.0106907 & 21.4502 & OTOR \\\\\n",
       "\t9 & 0.0171064 & 0.314382 & 0.018934 & 16.6041 & KRT8 \\\\\n",
       "\t10 & 0.0121774 & 0.215629 & 0.0135518 & 15.9115 & KRT18 \\\\\n",
       "\t11 & 0.028414 & 0.446408 & 0.031551 & 14.1488 & GNG11 \\\\\n",
       "\t12 & 0.028704 & 0.409559 & 0.0318816 & 12.8462 & CALCA \\\\\n",
       "\t13 & 0.00695854 & 0.0956592 & 0.00777774 & 12.2991 & LTB \\\\\n",
       "\t14 & 0.0864019 & 1.21759 & 0.101939 & 11.9444 & CTGF \\\\\n",
       "\t15 & 0.00608872 & 0.0773991 & 0.00678862 & 11.4013 & LINC01579 \\\\\n",
       "\t16 & 0.0118875 & 0.14516 & 0.0132377 & 10.9656 & CCL5 \\\\\n",
       "\t17 & 1.39722 & 46.4396 & 4.38787 & 10.5836 & HIST1H4C \\\\\n",
       "\t18 & 0.028704 & 0.312111 & 0.0318816 & 9.78969 & S100A2 \\\\\n",
       "\t19 & 0.0101479 & 0.110976 & 0.0113377 & 9.78826 & MGP \\\\\n",
       "\t20 & 0.131922 & 1.54089 & 0.164349 & 9.37567 & GDF15 \\\\\n",
       "\t21 & 0.548565 & 9.63054 & 1.03132 & 9.3381 & KCNMA1 \\\\\n",
       "\t22 & 0.00289939 & 0.0289939 & 0.00314371 & 9.22283 & TCEAL7 \\\\\n",
       "\t23 & 0.0669759 & 0.70868 & 0.0774442 & 9.15085 & TFPI2 \\\\\n",
       "\t24 & 0.0487098 & 0.474425 & 0.0552817 & 8.58195 & IL32 \\\\\n",
       "\t25 & 0.148739 & 1.53442 & 0.188784 & 8.12794 & PEG10 \\\\\n",
       "\t26 & 0.0168165 & 0.147629 & 0.0186181 & 7.92934 & PLCG2 \\\\\n",
       "\t27 & 0.00231951 & 0.0185561 & 0.00249425 & 7.43957 & FMO1 \\\\\n",
       "\t28 & 0.00376921 & 0.0304382 & 0.0041331 & 7.3645 & ENC1 \\\\\n",
       "\t29 & 0.00492896 & 0.0397089 & 0.0054565 & 7.27735 & SPP1 \\\\\n",
       "\t30 & 0.0173963 & 0.135428 & 0.0192505 & 7.03506 & GLUL \\\\\n",
       "\t$\\dots$ & $\\dots$ & $\\dots$ & $\\dots$ & $\\dots$ & $\\dots$ \\\\\n",
       "\\end{tabular}\n"
      ],
      "text/plain": [
       "\u001b[1m17832×5 DataFrame\u001b[0m\n",
       "\u001b[1m   Row \u001b[0m│\u001b[1m mean         \u001b[0m\u001b[1m variance      \u001b[0m\u001b[1m variance_expected \u001b[0m\u001b[1m variance_standardized\u001b[0m ⋯\n",
       "       │\u001b[90m Float64      \u001b[0m\u001b[90m Float64       \u001b[0m\u001b[90m Float64           \u001b[0m\u001b[90m Float64              \u001b[0m ⋯\n",
       "───────┼────────────────────────────────────────────────────────────────────────\n",
       "     1 │   0.434619       61.7296            0.742146                83.1771   ⋯\n",
       "     2 │   0.147289        9.89825           0.186649                53.0313\n",
       "     3 │   0.014497        0.696426          0.0160891               43.2857\n",
       "     4 │   0.0661061       3.13832           0.076376                41.0904\n",
       "     5 │   0.0104378       0.355459          0.0116581               30.4903   ⋯\n",
       "     6 │   0.0840823       2.47553           0.0989558               25.0165\n",
       "     7 │   0.0258046       0.707861          0.028591                24.7581\n",
       "     8 │   0.00956799      0.229317          0.0106907               21.4502\n",
       "     9 │   0.0171064       0.314382          0.018934                16.6041   ⋯\n",
       "    10 │   0.0121774       0.215629          0.0135518               15.9115\n",
       "    11 │   0.028414        0.446408          0.031551                14.1488\n",
       "   ⋮   │      ⋮              ⋮                ⋮                    ⋮           ⋱\n",
       " 17823 │   3.52218        15.8377           21.7936                   0.726714\n",
       " 17824 │   0.660191        0.981364          1.35274                  0.725463 ⋯\n",
       " 17825 │   2.4352          8.20817          11.3233                   0.724889\n",
       " 17826 │ 106.255       16524.6           22931.9                      0.720594\n",
       " 17827 │   1.28762         2.76006           3.83628                  0.719462\n",
       " 17828 │   1.44999         3.34618           4.66603                  0.717137 ⋯\n",
       " 17829 │   7.79356        67.8588           95.1762                   0.71298\n",
       " 17830 │   4.20151        21.1134           30.0022                   0.703729\n",
       " 17831 │   3.57147        15.2142           22.346                    0.680848\n",
       " 17832 │ 122.742       20497.2           31948.1                      0.641579 ⋯\n",
       "\u001b[36m                                                 1 column and 17811 rows omitted\u001b[0m"
      ]
     },
     "execution_count": 17,
     "metadata": {},
     "output_type": "execute_result"
    }
   ],
   "source": [
    "A2780_normalized_featured.varGene.vst_data"
   ]
  },
  {
   "cell_type": "markdown",
   "id": "32930c4f",
   "metadata": {},
   "source": [
    "### filter featured genes"
   ]
  },
  {
   "cell_type": "code",
   "execution_count": 18,
   "id": "c5471962",
   "metadata": {
    "scrolled": true
   },
   "outputs": [
    {
     "data": {
      "text/html": [
       "<div><div style = \"float: left;\"><span>10425×5 DataFrame</span></div><div style = \"float: right;\"><span style = \"font-style: italic;\">10400 rows omitted</span></div><div style = \"clear: both;\"></div></div><div class = \"data-frame\" style = \"overflow-x: scroll;\"><table class = \"data-frame\" style = \"margin-bottom: 6px;\"><thead><tr class = \"header\"><th class = \"rowNumber\" style = \"font-weight: bold; text-align: right;\">Row</th><th style = \"text-align: left;\">mean</th><th style = \"text-align: left;\">variance</th><th style = \"text-align: left;\">variance_expected</th><th style = \"text-align: left;\">variance_standardized</th><th style = \"text-align: left;\">gene</th></tr><tr class = \"subheader headerLastRow\"><th class = \"rowNumber\" style = \"font-weight: bold; text-align: right;\"></th><th title = \"Float64\" style = \"text-align: left;\">Float64</th><th title = \"Float64\" style = \"text-align: left;\">Float64</th><th title = \"Float64\" style = \"text-align: left;\">Float64</th><th title = \"Float64\" style = \"text-align: left;\">Float64</th><th title = \"String\" style = \"text-align: left;\">String</th></tr></thead><tbody><tr><td class = \"rowNumber\" style = \"font-weight: bold; text-align: right;\">1</td><td style = \"text-align: right;\">0.434619</td><td style = \"text-align: right;\">61.7296</td><td style = \"text-align: right;\">0.742146</td><td style = \"text-align: right;\">83.1771</td><td style = \"text-align: left;\">TMSB4X</td></tr><tr><td class = \"rowNumber\" style = \"font-weight: bold; text-align: right;\">2</td><td style = \"text-align: right;\">0.147289</td><td style = \"text-align: right;\">9.89825</td><td style = \"text-align: right;\">0.186649</td><td style = \"text-align: right;\">53.0313</td><td style = \"text-align: left;\">NTS</td></tr><tr><td class = \"rowNumber\" style = \"font-weight: bold; text-align: right;\">3</td><td style = \"text-align: right;\">0.014497</td><td style = \"text-align: right;\">0.696426</td><td style = \"text-align: right;\">0.0160891</td><td style = \"text-align: right;\">43.2857</td><td style = \"text-align: left;\">ANXA1</td></tr><tr><td class = \"rowNumber\" style = \"font-weight: bold; text-align: right;\">4</td><td style = \"text-align: right;\">0.0661061</td><td style = \"text-align: right;\">3.13832</td><td style = \"text-align: right;\">0.076376</td><td style = \"text-align: right;\">41.0904</td><td style = \"text-align: left;\">CALCB</td></tr><tr><td class = \"rowNumber\" style = \"font-weight: bold; text-align: right;\">5</td><td style = \"text-align: right;\">0.0840823</td><td style = \"text-align: right;\">2.47553</td><td style = \"text-align: right;\">0.0989558</td><td style = \"text-align: right;\">25.0165</td><td style = \"text-align: left;\">GCG</td></tr><tr><td class = \"rowNumber\" style = \"font-weight: bold; text-align: right;\">6</td><td style = \"text-align: right;\">0.0258046</td><td style = \"text-align: right;\">0.707861</td><td style = \"text-align: right;\">0.028591</td><td style = \"text-align: right;\">24.7581</td><td style = \"text-align: left;\">HIST1H2BH</td></tr><tr><td class = \"rowNumber\" style = \"font-weight: bold; text-align: right;\">7</td><td style = \"text-align: right;\">0.0171064</td><td style = \"text-align: right;\">0.314382</td><td style = \"text-align: right;\">0.018934</td><td style = \"text-align: right;\">16.6041</td><td style = \"text-align: left;\">KRT8</td></tr><tr><td class = \"rowNumber\" style = \"font-weight: bold; text-align: right;\">8</td><td style = \"text-align: right;\">0.028414</td><td style = \"text-align: right;\">0.446408</td><td style = \"text-align: right;\">0.031551</td><td style = \"text-align: right;\">14.1488</td><td style = \"text-align: left;\">GNG11</td></tr><tr><td class = \"rowNumber\" style = \"font-weight: bold; text-align: right;\">9</td><td style = \"text-align: right;\">0.028704</td><td style = \"text-align: right;\">0.409559</td><td style = \"text-align: right;\">0.0318816</td><td style = \"text-align: right;\">12.8462</td><td style = \"text-align: left;\">CALCA</td></tr><tr><td class = \"rowNumber\" style = \"font-weight: bold; text-align: right;\">10</td><td style = \"text-align: right;\">0.0864019</td><td style = \"text-align: right;\">1.21759</td><td style = \"text-align: right;\">0.101939</td><td style = \"text-align: right;\">11.9444</td><td style = \"text-align: left;\">CTGF</td></tr><tr><td class = \"rowNumber\" style = \"font-weight: bold; text-align: right;\">11</td><td style = \"text-align: right;\">1.39722</td><td style = \"text-align: right;\">46.4396</td><td style = \"text-align: right;\">4.38787</td><td style = \"text-align: right;\">10.5836</td><td style = \"text-align: left;\">HIST1H4C</td></tr><tr><td class = \"rowNumber\" style = \"font-weight: bold; text-align: right;\">12</td><td style = \"text-align: right;\">0.028704</td><td style = \"text-align: right;\">0.312111</td><td style = \"text-align: right;\">0.0318816</td><td style = \"text-align: right;\">9.78969</td><td style = \"text-align: left;\">S100A2</td></tr><tr><td class = \"rowNumber\" style = \"font-weight: bold; text-align: right;\">13</td><td style = \"text-align: right;\">0.131922</td><td style = \"text-align: right;\">1.54089</td><td style = \"text-align: right;\">0.164349</td><td style = \"text-align: right;\">9.37567</td><td style = \"text-align: left;\">GDF15</td></tr><tr><td style = \"text-align: right;\">&vellip;</td><td style = \"text-align: right;\">&vellip;</td><td style = \"text-align: right;\">&vellip;</td><td style = \"text-align: right;\">&vellip;</td><td style = \"text-align: right;\">&vellip;</td><td style = \"text-align: right;\">&vellip;</td></tr><tr><td class = \"rowNumber\" style = \"font-weight: bold; text-align: right;\">10414</td><td style = \"text-align: right;\">1.39432</td><td style = \"text-align: right;\">3.29284</td><td style = \"text-align: right;\">4.37283</td><td style = \"text-align: right;\">0.753025</td><td style = \"text-align: left;\">SEPT7</td></tr><tr><td class = \"rowNumber\" style = \"font-weight: bold; text-align: right;\">10415</td><td style = \"text-align: right;\">2.64251</td><td style = \"text-align: right;\">9.78312</td><td style = \"text-align: right;\">13.068</td><td style = \"text-align: right;\">0.748632</td><td style = \"text-align: left;\">CCT6A</td></tr><tr><td class = \"rowNumber\" style = \"font-weight: bold; text-align: right;\">10416</td><td style = \"text-align: right;\">2.95187</td><td style = \"text-align: right;\">11.8341</td><td style = \"text-align: right;\">15.8925</td><td style = \"text-align: right;\">0.744635</td><td style = \"text-align: left;\">SSB</td></tr><tr><td class = \"rowNumber\" style = \"font-weight: bold; text-align: right;\">10417</td><td style = \"text-align: right;\">2.27805</td><td style = \"text-align: right;\">7.50126</td><td style = \"text-align: right;\">10.08</td><td style = \"text-align: right;\">0.744172</td><td style = \"text-align: left;\">LAPTM4A</td></tr><tr><td class = \"rowNumber\" style = \"font-weight: bold; text-align: right;\">10418</td><td style = \"text-align: right;\">2.01827</td><td style = \"text-align: right;\">6.03418</td><td style = \"text-align: right;\">8.17456</td><td style = \"text-align: right;\">0.738166</td><td style = \"text-align: left;\">HNRNPM</td></tr><tr><td class = \"rowNumber\" style = \"font-weight: bold; text-align: right;\">10419</td><td style = \"text-align: right;\">2.58365</td><td style = \"text-align: right;\">9.24191</td><td style = \"text-align: right;\">12.5606</td><td style = \"text-align: right;\">0.735787</td><td style = \"text-align: left;\">MORF4L1</td></tr><tr><td class = \"rowNumber\" style = \"font-weight: bold; text-align: right;\">10420</td><td style = \"text-align: right;\">2.64048</td><td style = \"text-align: right;\">9.52558</td><td style = \"text-align: right;\">13.0503</td><td style = \"text-align: right;\">0.72991</td><td style = \"text-align: left;\">CCT8</td></tr><tr><td class = \"rowNumber\" style = \"font-weight: bold; text-align: right;\">10421</td><td style = \"text-align: right;\">1.65555</td><td style = \"text-align: right;\">4.25081</td><td style = \"text-align: right;\">5.82792</td><td style = \"text-align: right;\">0.729387</td><td style = \"text-align: left;\">SPCS2</td></tr><tr><td class = \"rowNumber\" style = \"font-weight: bold; text-align: right;\">10422</td><td style = \"text-align: right;\">0.660191</td><td style = \"text-align: right;\">0.981364</td><td style = \"text-align: right;\">1.35274</td><td style = \"text-align: right;\">0.725463</td><td style = \"text-align: left;\">RARS</td></tr><tr><td class = \"rowNumber\" style = \"font-weight: bold; text-align: right;\">10423</td><td style = \"text-align: right;\">2.4352</td><td style = \"text-align: right;\">8.20817</td><td style = \"text-align: right;\">11.3233</td><td style = \"text-align: right;\">0.724889</td><td style = \"text-align: left;\">CCT4</td></tr><tr><td class = \"rowNumber\" style = \"font-weight: bold; text-align: right;\">10424</td><td style = \"text-align: right;\">1.28762</td><td style = \"text-align: right;\">2.76006</td><td style = \"text-align: right;\">3.83628</td><td style = \"text-align: right;\">0.719462</td><td style = \"text-align: left;\">BZW1</td></tr><tr><td class = \"rowNumber\" style = \"font-weight: bold; text-align: right;\">10425</td><td style = \"text-align: right;\">1.44999</td><td style = \"text-align: right;\">3.34618</td><td style = \"text-align: right;\">4.66603</td><td style = \"text-align: right;\">0.717137</td><td style = \"text-align: left;\">UQCRC2</td></tr></tbody></table></div>"
      ],
      "text/latex": [
       "\\begin{tabular}{r|ccccc}\n",
       "\t& mean & variance & variance\\_expected & variance\\_standardized & gene\\\\\n",
       "\t\\hline\n",
       "\t& Float64 & Float64 & Float64 & Float64 & String\\\\\n",
       "\t\\hline\n",
       "\t1 & 0.434619 & 61.7296 & 0.742146 & 83.1771 & TMSB4X \\\\\n",
       "\t2 & 0.147289 & 9.89825 & 0.186649 & 53.0313 & NTS \\\\\n",
       "\t3 & 0.014497 & 0.696426 & 0.0160891 & 43.2857 & ANXA1 \\\\\n",
       "\t4 & 0.0661061 & 3.13832 & 0.076376 & 41.0904 & CALCB \\\\\n",
       "\t5 & 0.0840823 & 2.47553 & 0.0989558 & 25.0165 & GCG \\\\\n",
       "\t6 & 0.0258046 & 0.707861 & 0.028591 & 24.7581 & HIST1H2BH \\\\\n",
       "\t7 & 0.0171064 & 0.314382 & 0.018934 & 16.6041 & KRT8 \\\\\n",
       "\t8 & 0.028414 & 0.446408 & 0.031551 & 14.1488 & GNG11 \\\\\n",
       "\t9 & 0.028704 & 0.409559 & 0.0318816 & 12.8462 & CALCA \\\\\n",
       "\t10 & 0.0864019 & 1.21759 & 0.101939 & 11.9444 & CTGF \\\\\n",
       "\t11 & 1.39722 & 46.4396 & 4.38787 & 10.5836 & HIST1H4C \\\\\n",
       "\t12 & 0.028704 & 0.312111 & 0.0318816 & 9.78969 & S100A2 \\\\\n",
       "\t13 & 0.131922 & 1.54089 & 0.164349 & 9.37567 & GDF15 \\\\\n",
       "\t14 & 0.548565 & 9.63054 & 1.03132 & 9.3381 & KCNMA1 \\\\\n",
       "\t15 & 0.0669759 & 0.70868 & 0.0774442 & 9.15085 & TFPI2 \\\\\n",
       "\t16 & 0.0487098 & 0.474425 & 0.0552817 & 8.58195 & IL32 \\\\\n",
       "\t17 & 0.148739 & 1.53442 & 0.188784 & 8.12794 & PEG10 \\\\\n",
       "\t18 & 0.0168165 & 0.147629 & 0.0186181 & 7.92934 & PLCG2 \\\\\n",
       "\t19 & 0.0173963 & 0.135428 & 0.0192505 & 7.03506 & GLUL \\\\\n",
       "\t20 & 0.0202957 & 0.15504 & 0.0224479 & 6.90668 & OSTN \\\\\n",
       "\t21 & 0.0139171 & 0.104215 & 0.0154505 & 6.74504 & HIST1H4E \\\\\n",
       "\t22 & 0.0162366 & 0.120386 & 0.0179869 & 6.69297 & S100A3 \\\\\n",
       "\t23 & 0.362714 & 3.7695 & 0.579535 & 6.50436 & CDKN1A \\\\\n",
       "\t24 & 0.0400116 & 0.292482 & 0.0449731 & 6.50349 & GPR84 \\\\\n",
       "\t25 & 0.323282 & 3.20143 & 0.497016 & 6.44131 & MEST \\\\\n",
       "\t26 & 0.0208756 & 0.142255 & 0.0230897 & 6.16099 & FRZB \\\\\n",
       "\t27 & 0.849232 & 12.0434 & 1.98048 & 6.08106 & S100A4 \\\\\n",
       "\t28 & 0.014207 & 0.0934756 & 0.0157704 & 5.92729 & GSG1 \\\\\n",
       "\t29 & 0.0127573 & 0.0833639 & 0.0141808 & 5.87865 & ISG20 \\\\\n",
       "\t30 & 0.019136 & 0.116223 & 0.0211646 & 5.49139 & HAPLN1 \\\\\n",
       "\t$\\dots$ & $\\dots$ & $\\dots$ & $\\dots$ & $\\dots$ & $\\dots$ \\\\\n",
       "\\end{tabular}\n"
      ],
      "text/plain": [
       "\u001b[1m10425×5 DataFrame\u001b[0m\n",
       "\u001b[1m   Row \u001b[0m│\u001b[1m mean      \u001b[0m\u001b[1m variance  \u001b[0m\u001b[1m variance_expected \u001b[0m\u001b[1m variance_standardized \u001b[0m\u001b[1m gene \u001b[0m ⋯\n",
       "       │\u001b[90m Float64   \u001b[0m\u001b[90m Float64   \u001b[0m\u001b[90m Float64           \u001b[0m\u001b[90m Float64               \u001b[0m\u001b[90m Strin\u001b[0m ⋯\n",
       "───────┼────────────────────────────────────────────────────────────────────────\n",
       "     1 │ 0.434619   61.7296            0.742146               83.1771    TMSB4 ⋯\n",
       "     2 │ 0.147289    9.89825           0.186649               53.0313    NTS\n",
       "     3 │ 0.014497    0.696426          0.0160891              43.2857    ANXA1\n",
       "     4 │ 0.0661061   3.13832           0.076376               41.0904    CALCB\n",
       "     5 │ 0.0840823   2.47553           0.0989558              25.0165    GCG   ⋯\n",
       "     6 │ 0.0258046   0.707861          0.028591               24.7581    HIST1\n",
       "     7 │ 0.0171064   0.314382          0.018934               16.6041    KRT8\n",
       "     8 │ 0.028414    0.446408          0.031551               14.1488    GNG11\n",
       "     9 │ 0.028704    0.409559          0.0318816              12.8462    CALCA ⋯\n",
       "    10 │ 0.0864019   1.21759           0.101939               11.9444    CTGF\n",
       "    11 │ 1.39722    46.4396            4.38787                10.5836    HIST1\n",
       "   ⋮   │     ⋮          ⋮              ⋮                    ⋮                ⋮ ⋱\n",
       " 10416 │ 2.95187    11.8341           15.8925                  0.744635  SSB\n",
       " 10417 │ 2.27805     7.50126          10.08                    0.744172  LAPTM ⋯\n",
       " 10418 │ 2.01827     6.03418           8.17456                 0.738166  HNRNP\n",
       " 10419 │ 2.58365     9.24191          12.5606                  0.735787  MORF4\n",
       " 10420 │ 2.64048     9.52558          13.0503                  0.72991   CCT8\n",
       " 10421 │ 1.65555     4.25081           5.82792                 0.729387  SPCS2 ⋯\n",
       " 10422 │ 0.660191    0.981364          1.35274                 0.725463  RARS\n",
       " 10423 │ 2.4352      8.20817          11.3233                  0.724889  CCT4\n",
       " 10424 │ 1.28762     2.76006           3.83628                 0.719462  BZW1\n",
       " 10425 │ 1.44999     3.34618           4.66603                 0.717137  UQCRC ⋯\n",
       "\u001b[36m                                                 1 column and 10404 rows omitted\u001b[0m"
      ]
     },
     "execution_count": 18,
     "metadata": {},
     "output_type": "execute_result"
    }
   ],
   "source": [
    "A2780_normalized_featured.varGene.vst_data = filter(row -> \n",
    "                    0.0125 <= row.mean <= 3.0 && \n",
    "                    row.variance_standardized >= 0.5, A2780_normalized_featured.varGene.vst_data)"
   ]
  },
  {
   "cell_type": "code",
   "execution_count": null,
   "id": "e2428e06",
   "metadata": {},
   "outputs": [],
   "source": []
  },
  {
   "cell_type": "markdown",
   "id": "85b21e5b",
   "metadata": {},
   "source": [
    "###  Can't run following "
   ]
  },
  {
   "cell_type": "code",
   "execution_count": null,
   "id": "d793bb0e",
   "metadata": {},
   "outputs": [],
   "source": [
    "A2780_scaled = cs.scale_object(A2780_normalized_featured) "
   ]
  },
  {
   "cell_type": "code",
   "execution_count": null,
   "id": "2f43ae73",
   "metadata": {},
   "outputs": [],
   "source": []
  },
  {
   "cell_type": "code",
   "execution_count": null,
   "id": "96f8840b",
   "metadata": {},
   "outputs": [],
   "source": []
  },
  {
   "cell_type": "code",
   "execution_count": null,
   "id": "af9ae6cb",
   "metadata": {},
   "outputs": [],
   "source": [
    "A2780_pca = cs.run_pca(A2780_scaled;  method=:svd, pratio = 1, maxoutdim = 10)"
   ]
  },
  {
   "cell_type": "code",
   "execution_count": null,
   "id": "bfbd6829",
   "metadata": {},
   "outputs": [],
   "source": []
  },
  {
   "cell_type": "code",
   "execution_count": null,
   "id": "6ec0c9f9",
   "metadata": {},
   "outputs": [],
   "source": [
    "A2780_cluster = cs.run_clustering(A2780_pca; res=0.06, n_neighbors=100)"
   ]
  },
  {
   "cell_type": "code",
   "execution_count": null,
   "id": "a8b42c2c",
   "metadata": {},
   "outputs": [],
   "source": []
  },
  {
   "cell_type": "code",
   "execution_count": null,
   "id": "07ad0b25",
   "metadata": {},
   "outputs": [],
   "source": [
    "A2780_umap = cs.run_umap(A2780_cluster; min_dist=0.4)"
   ]
  },
  {
   "cell_type": "code",
   "execution_count": null,
   "id": "f6ab86b0",
   "metadata": {},
   "outputs": [],
   "source": []
  },
  {
   "cell_type": "code",
   "execution_count": null,
   "id": "35296f9d",
   "metadata": {},
   "outputs": [],
   "source": [
    "markers = cs.find_markers(A2780_umap; cluster_1 = \"7\", cluster_2 = \"6\")"
   ]
  },
  {
   "cell_type": "code",
   "execution_count": null,
   "id": "dd9a404c",
   "metadata": {},
   "outputs": [],
   "source": []
  },
  {
   "cell_type": "code",
   "execution_count": null,
   "id": "d7b9691a",
   "metadata": {},
   "outputs": [],
   "source": [
    "all_markers = cs.find_all_markers(A2780_umap)"
   ]
  }
 ],
 "metadata": {
  "@webio": {
   "lastCommId": "13541bb9867a4cfd97c6ae16051a600e",
   "lastKernelId": "665bddf3-0b70-4187-8d59-14cc79fd25f8"
  },
  "kernelspec": {
   "display_name": "Julia 1.9.3",
   "language": "julia",
   "name": "julia-1.9"
  },
  "language_info": {
   "file_extension": ".jl",
   "mimetype": "application/julia",
   "name": "julia",
   "version": "1.9.3"
  }
 },
 "nbformat": 4,
 "nbformat_minor": 5
}
